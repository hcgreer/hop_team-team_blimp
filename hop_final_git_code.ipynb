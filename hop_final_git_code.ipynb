{
 "cells": [
  {
   "cell_type": "code",
   "execution_count": null,
   "id": "b00347fa-9b5d-420a-bba4-3342866287e2",
   "metadata": {},
   "outputs": [],
   "source": [
    "import pandas as pd\n",
    "from tqdm.notebook import tqdm\n",
    "import sqlite3\n",
    "import warnings\n",
    "warnings.filterwarnings('ignore')\n",
    "import matplotlib.pyplot as plt"
   ]
  },
  {
   "cell_type": "markdown",
   "id": "cb4589ba-3a57-4247-a564-bb3600262465",
   "metadata": {},
   "source": [
    "From databases created with sqlite, queried multiple tables to isolate Vanderbilt facilities that fell within the following parameters: CBSA 34980, to_npi(Vanderbilt facilitites that were referred to) and entity_type_code 2 (hospitals)   "
   ]
  },
  {
   "cell_type": "code",
   "execution_count": null,
   "id": "ff3a8e8a-e4bc-41b5-8481-d0cf0dae6cd0",
   "metadata": {},
   "outputs": [],
   "source": [
    "query = '''\n",
    "WITH hospital_npi_data AS(\n",
    "    SELECT \n",
    "        DISTINCT entity_type_code AS entity,\n",
    "        npi,\n",
    "        `provider_organization_name_(legal_business_name)` AS organization,\n",
    "        SUBSTR(provider_business_practice_location_address_postal_code, 1, 5) AS zipcode,\n",
    "        provider_business_practice_location_address_state_name AS state,\n",
    "        taxonomy_code\n",
    "    FROM \n",
    "        npi_data\n",
    "    WHERE\n",
    "        entity_type_code = 2\n",
    ")\n",
    "    SELECT\n",
    "        organization,\n",
    "        to_npi,\n",
    "        code,\n",
    "        grouping,\n",
    "        classification,\n",
    "        specialization,\n",
    "        zip,\n",
    "        state,\n",
    "        patient_count AS total_patients \n",
    "    FROM \n",
    "        hop\n",
    "    INNER JOIN \n",
    "        hospital_npi_data \n",
    "    ON \n",
    "        hop.to_npi = hospital_npi_data.npi\n",
    "    LEFT JOIN \n",
    "        taxonomy\n",
    "    ON \n",
    "        taxonomy_code = code\n",
    "    LEFT JOIN \n",
    "        zipcode\n",
    "    ON \n",
    "        zipcode.zip = hospital_npi_data.zipcode\n",
    "    WHERE \n",
    "        cbsa = 34980\n",
    "        AND organization in ('VANDERBILT UNIVERSITY MEDICAL CENTER', \n",
    "            'MONROE CARELL JR VANDERBILT CHILDREN''S HOSPITAL', \n",
    "            'VANDERBILT PSYCHIATRIC HOSPITAL, LLC',\n",
    "            'VANDERBILT HEART AND VASCULAR INSTITUTE', \n",
    "            'VANDERBILT ORTHOPAEDIC INSTITUTE', \n",
    "            'VANDERBILT ASTHMA SINUS AND ALLERGY PROGRAM, LLC',\n",
    "            'VANDERBILT UNIVERSITY MEDICAL CENTER', \n",
    "            'VANDERBILT ORTHOPAEDICS AND REHABILITATION COOL SPRINGS', \n",
    "            'VANDERBILT COMMUNITY MENTAL HEALTH CENTER', \n",
    "            'VANDERBILT COMMUNITY AND HOME SERVICES', \n",
    "            'VANDERBILT BEDFORD HOSPITAL, LLC',\n",
    "            'VANDERBILT COFFEE HOSPITAL, LLC',  \n",
    "            'VANDERBILT INTEGRATED PROVIDERS, LLC', \n",
    "            'VANDERBILT HEALTH AND WILLIAMSON MEDICAL CENTER CLINICS AND SERVICES',\n",
    "            'VANDERBILT-INGRAM CANCER CENTER AT TENNOVA HEALTHCARE-CLARKSVILLE', \n",
    "            'VANDERBILT MAURY RADIATION ONCOLOGY, LLC'\n",
    "            )\n",
    "    \n",
    "'''"
   ]
  },
  {
   "cell_type": "code",
   "execution_count": null,
   "id": "dfe40466-289a-4a65-aba3-b1198a4dedee",
   "metadata": {},
   "outputs": [],
   "source": [
    "with sqlite3.connect('hop_teaming.sqlite') as db: \n",
    "    TO_CBSA = pd.read_sql(query,db)\n",
    "    \n",
    "TO_CBSA"
   ]
  },
  {
   "cell_type": "markdown",
   "id": "83342f23-d0c6-4de9-9ebb-57dd5841cb18",
   "metadata": {},
   "source": [
    "After running query, selected 'total_patients' column and summed for all patients within specified parameters of the query.\n",
    "\n",
    "total patients = 2032854"
   ]
  },
  {
   "cell_type": "code",
   "execution_count": null,
   "id": "a2177f58-9ddf-49f3-abb8-5b13ab2d4c55",
   "metadata": {},
   "outputs": [],
   "source": [
    "TO_CBSA['total_patients'].sum() "
   ]
  },
  {
   "cell_type": "markdown",
   "id": "88f33bc8-297b-47b8-8b44-99e3bb48fb95",
   "metadata": {},
   "source": [
    "Grouped by 'organization' column and summed 'total_patients' column to get total patient count for each Vanderbilt facility within the parameters specified within query.\n",
    "\n",
    "Vanderbilt University Medical Center = 2032652  \n",
    "Vanderbilt Maury Radiation Oncology, LLC = 202"
   ]
  },
  {
   "cell_type": "code",
   "execution_count": null,
   "id": "c0016a29-505e-454a-87f0-9ef65b8ffdb8",
   "metadata": {},
   "outputs": [],
   "source": [
    "TO_CBSA.groupby('organization')[('total_patients')].sum().sort_values(ascending = False)  "
   ]
  },
  {
   "cell_type": "code",
   "execution_count": null,
   "id": "207003ae-e4e2-4e16-8080-50c2d7332631",
   "metadata": {},
   "outputs": [],
   "source": []
  },
  {
   "cell_type": "markdown",
   "id": "6162a695-1537-49ed-9b6d-90678d0e1a9e",
   "metadata": {},
   "source": [
    "From databases created with sqlite, using identical parameters as above, queried multiple tables to exclude all Vanderbilt facilities from the dataframe. "
   ]
  },
  {
   "cell_type": "code",
   "execution_count": null,
   "id": "de7c38f9-2888-4f59-9d0d-473af91f0b54",
   "metadata": {},
   "outputs": [],
   "source": [
    "query = '''\n",
    "WITH hospital_npi_data AS(\n",
    "    SELECT \n",
    "        DISTINCT entity_type_code AS entity,\n",
    "        npi,\n",
    "        `provider_organization_name_(legal_business_name)` AS organization,\n",
    "        SUBSTR(provider_business_practice_location_address_postal_code, 1, 5) AS zipcode,\n",
    "        provider_business_practice_location_address_state_name AS state,\n",
    "        taxonomy_code\n",
    "    FROM \n",
    "        npi_data\n",
    "    WHERE\n",
    "        entity_type_code = 2\n",
    ")\n",
    "    SELECT\n",
    "        organization,\n",
    "        from_npi,\n",
    "        to_npi,\n",
    "        code,\n",
    "        grouping,\n",
    "        classification,\n",
    "        specialization,\n",
    "        zip,\n",
    "        state,\n",
    "        patient_count AS total_patients \n",
    "    FROM \n",
    "        hop\n",
    "    INNER JOIN \n",
    "        hospital_npi_data \n",
    "    ON \n",
    "        hop.to_npi = hospital_npi_data.npi\n",
    "    LEFT JOIN \n",
    "        taxonomy\n",
    "    ON \n",
    "        taxonomy_code = code\n",
    "    LEFT JOIN \n",
    "        zipcode\n",
    "    ON \n",
    "        zipcode.zip = hospital_npi_data.zipcode\n",
    "    WHERE \n",
    "        cbsa = 34980 \n",
    "        AND state = 'TN'\n",
    "        AND organization NOT IN(\n",
    "            'VANDERBILT UNIVERSITY MEDICAL CENTER', \n",
    "            'MONROE CARELL JR VANDERBILT CHILDREN''S HOSPITAL', \n",
    "            'VANDERBILT PSYCHIATRIC HOSPITAL, LLC',\n",
    "            'VANDERBILT HEART AND VASCULAR INSTITUTE', \n",
    "            'VANDERBILT ORTHOPAEDIC INSTITUTE', \n",
    "            'VANDERBILT ASTHMA SINUS AND ALLERGY PROGRAM, LLC',\n",
    "            'VANDERBILT UNIVERSITY MEDICAL CENTER', \n",
    "            'VANDERBILT ORTHOPAEDICS AND REHABILITATION COOL SPRINGS', \n",
    "            'VANDERBILT COMMUNITY MENTAL HEALTH CENTER', \n",
    "            'VANDERBILT COMMUNITY AND HOME SERVICES', \n",
    "            'VANDERBILT BEDFORD HOSPITAL, LLC',\n",
    "            'VANDERBILT COFFEE HOSPITAL, LLC',  \n",
    "            'VANDERBILT INTEGRATED PROVIDERS, LLC', \n",
    "            'VANDERBILT HEALTH AND WILLIAMSON MEDICAL CENTER CLINICS AND SERVICES',\n",
    "            'VANDERBILT-INGRAM CANCER CENTER AT TENNOVA HEALTHCARE-CLARKSVILLE', \n",
    "            'VANDERBILT MAURY RADIATION ONCOLOGY, LLC'\n",
    "            )\n",
    "    \n",
    "'''"
   ]
  },
  {
   "cell_type": "code",
   "execution_count": null,
   "id": "22d3688f-dff4-49e4-9874-7d4e9c7572a9",
   "metadata": {},
   "outputs": [],
   "source": [
    "with sqlite3.connect('hop_teaming.sqlite') as db: \n",
    "    CBSA_NOT_VANDY = pd.read_sql(query,db)\n",
    "    \n",
    "CBSA_NOT_VANDY"
   ]
  },
  {
   "cell_type": "markdown",
   "id": "fc8e5f06-d622-4ff6-850d-51b341babaad",
   "metadata": {},
   "source": [
    "After running query, selected 'total_patients' column and summed for all patients to all facilitites within specified parameters of the query that are NOT a Vanderbilt facility.\n",
    "\n",
    "total_patients = 22282295"
   ]
  },
  {
   "cell_type": "code",
   "execution_count": null,
   "id": "8d41c176-cc37-4cf7-ae2a-a08db585c622",
   "metadata": {},
   "outputs": [],
   "source": [
    "CBSA_NOT_VANDY[['total_patients']].sum()"
   ]
  },
  {
   "cell_type": "markdown",
   "id": "b850d1d2-7957-4ce1-a303-f34e22ea8748",
   "metadata": {},
   "source": [
    "Grouped by 'organization' column and summed 'total_patients' column to get total patient count for each facility within the parameters specified within query that is NOT a Vanderbilt facitlity"
   ]
  },
  {
   "cell_type": "code",
   "execution_count": null,
   "id": "e843461e-5438-4153-ae2a-bd9cd866a89c",
   "metadata": {},
   "outputs": [],
   "source": [
    "CBSA_NOT_VANDY.groupby('organization')[('total_patients')].sum().sort_values(ascending = False).head(20)"
   ]
  },
  {
   "cell_type": "raw",
   "id": "7c831904-faf5-43ab-bb30-f04e67d08f2d",
   "metadata": {},
   "source": [
    "ASSOCIATED PATHOLOGISTS, LLC              1733907\n",
    "ASSOCIATED PATHOLOGISTS LLC               1174953\n",
    "ADVANCED DIAGNOSTIC IMAGING, PC           1127548\n",
    "PATHGROUP LABS, LLC                       1075639\n",
    "SAINT THOMAS MEDICAL PARTNERS             1027867\n",
    "RADIOLOGY ALLIANCE PC                      964905\n",
    "TENNESSEE ONCOLOGY PLLC                    955483\n",
    "HCA HEALTH SERVICES OF TENNESSEE, INC.     690908\n",
    "CENTENNIAL HEART LLC                       521703\n",
    "ANESTHESIA MEDICAL GROUP, PC               494750\n",
    "SAINT THOMAS WEST HOSPITAL                 460022\n",
    "AEGIS SCIENCES CORPORATION                 379637\n",
    "MAURY REGIONAL HOSPITAL                    347170\n",
    "VERUS HEALTHCARE, LLC                      312846\n",
    "NEPHROLOGY ASSOCIATES, PC                  277413\n",
    "SOUTHERN RADIOLOGY ASSOCIATES, PLLC        266452\n",
    "HERITAGE MEDICAL ASSOCIATES PC             264312\n",
    "MAURY REGIONAL MEDICAL GROUP, INC          236349\n",
    "CARR PLLC                                  233163\n",
    "TENNESSEE ORTHOPAEDIC ALLIANCE PA          210391"
   ]
  },
  {
   "cell_type": "markdown",
   "id": "e1b9430d-c588-4e81-b1d0-b4335ca6044f",
   "metadata": {},
   "source": [
    "This graph shows the total patient count for the top 20 facilitites within the CBSA 38940  "
   ]
  },
  {
   "cell_type": "code",
   "execution_count": null,
   "id": "8f58a901-ee8a-4955-ab74-a7440eb4a66a",
   "metadata": {},
   "outputs": [],
   "source": [
    "c = ['black','black', 'black','black','black','black','black','black','black','black','black','black', 'black','black','black','black','black','black','black','gold']\n",
    "plt.figure(figsize=(17,10))\n",
    "cbsa_sorted = cbsa.sort_values(ascending = True)\n",
    "ax = cbsa_sorted.plot.barh(x='organization', y= 'patients_to', color = c)\n",
    "plt.xlabel('Number of Patients Referred', fontsize = 12)\n",
    "plt.ylabel('Organization', fontsize = 12)\n",
    "plt.xticks(rotation=45, ha = 'right')\n",
    "plt.legend(['TOTAL PATIENTS: 24,319,802'], loc = 'lower right', bbox_to_anchor=(.5, .1))\n",
    "plt.title('Top 20 Organizations by Total Patients Referred that fall under the Designations: Entity 2, CBSA 34980')\n",
    "\n",
    "\n",
    "plt.show()"
   ]
  },
  {
   "cell_type": "markdown",
   "id": "2bf4c529-285a-41a2-a8e4-e392f686f4d4",
   "metadata": {},
   "source": [
    "This graph shows the total patient count for the top 20 facilitites within the city of Nashville, TN."
   ]
  },
  {
   "cell_type": "code",
   "execution_count": null,
   "id": "8d12eaae-d612-4cd2-b803-0ac15ae47c1c",
   "metadata": {},
   "outputs": [],
   "source": [
    "c = ['black','black', 'black','black','black','black','black','black','black','black','black','black', 'black','black','black','black','black','black','gold','black']\n",
    "plt.figure(figsize=(17,10))\n",
    "ALL_NASH_TOP_20_sorted = ALL_NASH_TOP_20.sort_values(ascending = True)\n",
    "ax = ALL_NASH_TOP_20_sorted.plot.barh(x='organization', y= 'patients_to', color = c)\n",
    "plt.xlabel('Number of Patients Referred', fontsize = 12)\n",
    "plt.ylabel('Organization', fontsize = 12)\n",
    "plt.xticks(rotation=45, ha = 'right')\n",
    "plt.legend(['TOTAL PATIENTS: 10,657,999'], loc = 'lower right', bbox_to_anchor=(.5, .1))\n",
    "plt.title('Top 20 Organizations by Total Patients Referred that fall under the Designations: Entity 2, Nashville, TN')\n",
    "\n",
    "\n",
    "plt.show()"
   ]
  },
  {
   "cell_type": "markdown",
   "id": "3bb120c5-ecc7-4619-90ba-126842abb100",
   "metadata": {},
   "source": [
    "This graph shows the percentage of patient share for Vanderbilt when compared to all other healthcare facilities in Nashville. "
   ]
  },
  {
   "cell_type": "code",
   "execution_count": null,
   "id": "f716d7ad-17f7-443e-b5cc-d77ef3438e8b",
   "metadata": {},
   "outputs": [],
   "source": [
    "total_patients = 10657999\n",
    "vandy_percent = 11\n",
    "not_vandy_percent = 89\n",
    "\n",
    "# Create a vertical bar plot\n",
    "fig, ax = plt.subplots(figsize=(11,8))\n",
    "ax.bar(['Vanderbilt', 'Others'], [vandy_percent, not_vandy_percent], color=['gold', 'black'])\n",
    "ax.set_xlabel('Percentage of Total Patients', fontsize = 14)\n",
    "ax.set_ylim(0, 100)\n",
    "ax.set_title('Vanderbilt vs All Others'.format(total_patients))\n",
    "\n",
    "# Add the percentages to the bars\n",
    "for i, v in enumerate([vandy_percent, not_vandy_percent]):\n",
    "    ax.text(i, v + 1, '{}%'.format(v), color='black',fontsize = 14, fontweight='bold', ha='center')\n",
    "\n",
    "plt.show()"
   ]
  }
 ],
 "metadata": {
  "kernelspec": {
   "display_name": "Python 3 (ipykernel)",
   "language": "python",
   "name": "python3"
  },
  "language_info": {
   "codemirror_mode": {
    "name": "ipython",
    "version": 3
   },
   "file_extension": ".py",
   "mimetype": "text/x-python",
   "name": "python",
   "nbconvert_exporter": "python",
   "pygments_lexer": "ipython3",
   "version": "3.9.12"
  }
 },
 "nbformat": 4,
 "nbformat_minor": 5
}
