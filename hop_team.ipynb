{
 "cells": [
  {
   "cell_type": "code",
   "execution_count": 1,
   "id": "51fbf1b8",
   "metadata": {},
   "outputs": [],
   "source": [
    "import pandas as pd\n",
    "from tqdm.notebook import tqdm\n",
    "import sqlite3"
   ]
  },
  {
   "cell_type": "code",
   "execution_count": 31,
   "id": "c2f8eba2",
   "metadata": {},
   "outputs": [
    {
     "data": {
      "text/plain": [
       "[('hop',), ('npi_data',), ('taxonomy',), ('zipcode',)]"
      ]
     },
     "execution_count": 31,
     "metadata": {},
     "output_type": "execute_result"
    }
   ],
   "source": [
    "#checking the tables in the sqlite_db\n",
    "\n",
    "db = sqlite3.connect('hop_teaming.sqlite')\n",
    "db.execute(\"\"\"SELECT \n",
    "    name\n",
    "FROM \n",
    "    sqlite_schema\n",
    "WHERE \n",
    "    type ='table' AND \n",
    "    name NOT LIKE 'sqlite_%';\"\"\").fetchall()"
   ]
  },
  {
   "cell_type": "code",
   "execution_count": 2,
   "id": "343d5457-a5ba-4bc0-9564-22158e31b943",
   "metadata": {},
   "outputs": [],
   "source": [
    "npi = pd.read_csv('npidata_pfile_20050523-20230212.csv', chunksize = 10000)"
   ]
  },
  {
   "cell_type": "code",
   "execution_count": 4,
   "id": "10cb7e75-2636-4b64-bd25-ab57431c41f3",
   "metadata": {},
   "outputs": [
    {
     "name": "stderr",
     "output_type": "stream",
     "text": [
      "C:\\Users\\tjsim\\Anaconda\\lib\\site-packages\\IPython\\core\\interactiveshell.py:3309: DtypeWarning: Columns (32,60,64,67,68,69,70,71,72,73,74,75,76,77,78,79,81,82,83,85,86,87,89,90,91,93,94,151,155,159,161,162,163,165,166,167,169,170,174,314) have mixed types.Specify dtype option on import or set low_memory=False.\n",
      "  if await self.run_code(code, result, async_=asy):\n"
     ]
    }
   ],
   "source": [
    "npi = next(npi)"
   ]
  },
  {
   "cell_type": "code",
   "execution_count": 5,
   "id": "58b0d3f6-4855-4a5e-a01d-7919ee361336",
   "metadata": {},
   "outputs": [],
   "source": [
    "nucc = pd.read_csv('nucc_taxonomy_230.csv', encoding = 'iso-8859-1')"
   ]
  },
  {
   "cell_type": "code",
   "execution_count": 7,
   "id": "57cab19b-7516-4e63-a8df-6994fbaf69cd",
   "metadata": {},
   "outputs": [],
   "source": [
    "hop = pd.read_csv('DocGraph_Hop_Teaming_2018.csv', chunksize = 10000)"
   ]
  },
  {
   "cell_type": "code",
   "execution_count": 9,
   "id": "d77655bb-9e94-4091-920b-5c6040f3a593",
   "metadata": {},
   "outputs": [],
   "source": [
    "hop = next(hop)"
   ]
  },
  {
   "cell_type": "code",
   "execution_count": 10,
   "id": "a21860ad",
   "metadata": {},
   "outputs": [
    {
     "data": {
      "application/vnd.jupyter.widget-view+json": {
       "model_id": "881e8dd07e904f8cbd5fbbfbf16f2de5",
       "version_major": 2,
       "version_minor": 0
      },
      "text/plain": [
       "0it [00:00, ?it/s]"
      ]
     },
     "metadata": {},
     "output_type": "display_data"
    }
   ],
   "source": [
    "db = sqlite3.connect('hop_teaming.sqlite') #name sqlite then add dbs\n",
    "\n",
    "for chunk in tqdm(pd.read_csv('DocGraph_Hop_Teaming_2018.csv', chunksize = 1000000)):\n",
    "    chunk.columns = [x.lower().replace(' ', '_') for x in chunk.columns]\n",
    "    chunk = chunk[(chunk['transaction_count'] >= 50) & (chunk['average_day_wait']<50)] # Clean up the column names\n",
    "    chunk.to_sql('hop', db, if_exists = 'append', index = False)             # Append the chunk to a calls table"
   ]
  },
  {
   "cell_type": "code",
   "execution_count": 11,
   "id": "dc60b935",
   "metadata": {},
   "outputs": [
    {
     "data": {
      "text/plain": [
       "<function Connection.close>"
      ]
     },
     "execution_count": 11,
     "metadata": {},
     "output_type": "execute_result"
    }
   ],
   "source": [
    "db.close"
   ]
  },
  {
   "cell_type": "code",
   "execution_count": 12,
   "id": "15993fdc",
   "metadata": {},
   "outputs": [],
   "source": [
    "npi_columns = ['NPI', \n",
    "    'Entity Type Code',\n",
    "    'Provider Organization Name (Legal Business Name)',\n",
    "    'Provider Last Name (Legal Name)',\n",
    "    'Provider First Name',\n",
    "    'Provider Middle Name',\n",
    "    'Provider Name Prefix Text',\n",
    "    'Provider Name Suffix Text',\n",
    "    'Provider Credential Text',\n",
    "    'Provider First Line Business Practice Location Address',\n",
    "    'Provider Second Line Business Practice Location Address',\n",
    "    'Provider Business Practice Location Address City Name',\n",
    "    'Provider Business Practice Location Address State Name',\n",
    "    'Provider Business Practice Location Address Postal Code',\n",
    "    'Healthcare Provider Taxonomy Code_1',\n",
    "    'Healthcare Provider Taxonomy Code_2',\n",
    "    'Healthcare Provider Taxonomy Code_3',\n",
    "    'Healthcare Provider Taxonomy Code_4',\n",
    "    'Healthcare Provider Taxonomy Code_5',\n",
    "    'Healthcare Provider Taxonomy Code_6',\n",
    "    'Healthcare Provider Taxonomy Code_7',\n",
    "    'Healthcare Provider Taxonomy Code_8',\n",
    "    'Healthcare Provider Taxonomy Code_9',\n",
    "    'Healthcare Provider Taxonomy Code_10',\n",
    "    'Healthcare Provider Taxonomy Code_11',\n",
    "    'Healthcare Provider Taxonomy Code_12',\n",
    "    'Healthcare Provider Taxonomy Code_13',\n",
    "    'Healthcare Provider Taxonomy Code_14',\n",
    "    'Healthcare Provider Taxonomy Code_15',\n",
    "    'Healthcare Provider Primary Taxonomy Switch_1',\n",
    "    'Healthcare Provider Primary Taxonomy Switch_2',\n",
    "    'Healthcare Provider Primary Taxonomy Switch_3',\n",
    "    'Healthcare Provider Primary Taxonomy Switch_4',\n",
    "    'Healthcare Provider Primary Taxonomy Switch_5',\n",
    "    'Healthcare Provider Primary Taxonomy Switch_6',\n",
    "    'Healthcare Provider Primary Taxonomy Switch_7',\n",
    "    'Healthcare Provider Primary Taxonomy Switch_8',\n",
    "    'Healthcare Provider Primary Taxonomy Switch_9',\n",
    "    'Healthcare Provider Primary Taxonomy Switch_10',\n",
    "    'Healthcare Provider Primary Taxonomy Switch_11',\n",
    "    'Healthcare Provider Primary Taxonomy Switch_12',\n",
    "    'Healthcare Provider Primary Taxonomy Switch_13',\n",
    "    'Healthcare Provider Primary Taxonomy Switch_14',\n",
    "    'Healthcare Provider Primary Taxonomy Switch_15']"
   ]
  },
  {
   "cell_type": "code",
   "execution_count": 13,
   "id": "7e2fc1a5",
   "metadata": {},
   "outputs": [],
   "source": [
    "npi_keeper_columns = ['NPI', \n",
    "    'Entity Type Code',\n",
    "    'Provider Organization Name (Legal Business Name)',\n",
    "    'Provider Last Name (Legal Name)',\n",
    "    'Provider First Name',\n",
    "    'Provider Middle Name',\n",
    "    'Provider Name Prefix Text',\n",
    "    'Provider Name Suffix Text',\n",
    "    'Provider Credential Text',\n",
    "    'Provider First Line Business Practice Location Address',\n",
    "    'Provider Second Line Business Practice Location Address',\n",
    "    'Provider Business Practice Location Address City Name',\n",
    "    'Provider Business Practice Location Address State Name',\n",
    "    'Provider Business Practice Location Address Postal Code',\n",
    "    'taxonomy_code']"
   ]
  },
  {
   "cell_type": "code",
   "execution_count": 14,
   "id": "a22971a7",
   "metadata": {
    "scrolled": true
   },
   "outputs": [
    {
     "data": {
      "application/vnd.jupyter.widget-view+json": {
       "model_id": "549b91c249e443949d815b2092e39e48",
       "version_major": 2,
       "version_minor": 0
      },
      "text/plain": [
       "0it [00:00, ?it/s]"
      ]
     },
     "metadata": {},
     "output_type": "display_data"
    },
    {
     "name": "stderr",
     "output_type": "stream",
     "text": [
      "C:\\Users\\tjsim\\AppData\\Local\\Temp\\ipykernel_15764\\575694477.py:3: DtypeWarning: Columns (71,74,75,78,79,82,83,86,87,90) have mixed types.Specify dtype option on import or set low_memory=False.\n",
      "  for chunk in tqdm(pd.read_csv('npidata_pfile_20050523-20230212.csv', usecols = npi_columns, chunksize = 10000)): #Reading data in by chuncks\n",
      "C:\\Users\\tjsim\\AppData\\Local\\Temp\\ipykernel_15764\\575694477.py:3: DtypeWarning: Columns (32,67,70,71,74,75,78,79,82,83,86,87,90,91,94) have mixed types.Specify dtype option on import or set low_memory=False.\n",
      "  for chunk in tqdm(pd.read_csv('npidata_pfile_20050523-20230212.csv', usecols = npi_columns, chunksize = 10000)): #Reading data in by chuncks\n",
      "C:\\Users\\tjsim\\AppData\\Local\\Temp\\ipykernel_15764\\575694477.py:3: DtypeWarning: Columns (32,71,74,75,78,79,82,83,86,87,90,91,94) have mixed types.Specify dtype option on import or set low_memory=False.\n",
      "  for chunk in tqdm(pd.read_csv('npidata_pfile_20050523-20230212.csv', usecols = npi_columns, chunksize = 10000)): #Reading data in by chuncks\n",
      "C:\\Users\\tjsim\\AppData\\Local\\Temp\\ipykernel_15764\\575694477.py:3: DtypeWarning: Columns (32,79,82,83,86,87,90,91,94,95,98,99,102) have mixed types.Specify dtype option on import or set low_memory=False.\n",
      "  for chunk in tqdm(pd.read_csv('npidata_pfile_20050523-20230212.csv', usecols = npi_columns, chunksize = 10000)): #Reading data in by chuncks\n",
      "C:\\Users\\tjsim\\AppData\\Local\\Temp\\ipykernel_15764\\575694477.py:3: DtypeWarning: Columns (32,67,70,71,74,75,78,79,82,83,86,87,90) have mixed types.Specify dtype option on import or set low_memory=False.\n",
      "  for chunk in tqdm(pd.read_csv('npidata_pfile_20050523-20230212.csv', usecols = npi_columns, chunksize = 10000)): #Reading data in by chuncks\n",
      "C:\\Users\\tjsim\\AppData\\Local\\Temp\\ipykernel_15764\\575694477.py:3: DtypeWarning: Columns (32,71,74,75,78,79,82,83,86) have mixed types.Specify dtype option on import or set low_memory=False.\n",
      "  for chunk in tqdm(pd.read_csv('npidata_pfile_20050523-20230212.csv', usecols = npi_columns, chunksize = 10000)): #Reading data in by chuncks\n",
      "C:\\Users\\tjsim\\AppData\\Local\\Temp\\ipykernel_15764\\575694477.py:3: DtypeWarning: Columns (32,67,70,71,74,75,78) have mixed types.Specify dtype option on import or set low_memory=False.\n",
      "  for chunk in tqdm(pd.read_csv('npidata_pfile_20050523-20230212.csv', usecols = npi_columns, chunksize = 10000)): #Reading data in by chuncks\n",
      "C:\\Users\\tjsim\\AppData\\Local\\Temp\\ipykernel_15764\\575694477.py:3: DtypeWarning: Columns (32,71,74,75,78,79,82,83,86,87,90,91,94,95,98,99,102,103,106) have mixed types.Specify dtype option on import or set low_memory=False.\n",
      "  for chunk in tqdm(pd.read_csv('npidata_pfile_20050523-20230212.csv', usecols = npi_columns, chunksize = 10000)): #Reading data in by chuncks\n",
      "C:\\Users\\tjsim\\AppData\\Local\\Temp\\ipykernel_15764\\575694477.py:3: DtypeWarning: Columns (71,74,75,78,79,82,83,86,87,90,91,94,95,98,99,102) have mixed types.Specify dtype option on import or set low_memory=False.\n",
      "  for chunk in tqdm(pd.read_csv('npidata_pfile_20050523-20230212.csv', usecols = npi_columns, chunksize = 10000)): #Reading data in by chuncks\n",
      "C:\\Users\\tjsim\\AppData\\Local\\Temp\\ipykernel_15764\\575694477.py:3: DtypeWarning: Columns (32,79,82,83,86,87,90,91,94,95,98,99,102,103,106) have mixed types.Specify dtype option on import or set low_memory=False.\n",
      "  for chunk in tqdm(pd.read_csv('npidata_pfile_20050523-20230212.csv', usecols = npi_columns, chunksize = 10000)): #Reading data in by chuncks\n",
      "C:\\Users\\tjsim\\AppData\\Local\\Temp\\ipykernel_15764\\575694477.py:3: DtypeWarning: Columns (32,71,74,75,78,79,82,83,86,87,90,91,94,95,98,99,102) have mixed types.Specify dtype option on import or set low_memory=False.\n",
      "  for chunk in tqdm(pd.read_csv('npidata_pfile_20050523-20230212.csv', usecols = npi_columns, chunksize = 10000)): #Reading data in by chuncks\n",
      "C:\\Users\\tjsim\\AppData\\Local\\Temp\\ipykernel_15764\\575694477.py:3: DtypeWarning: Columns (32,71,74,75,78,79,82,83,86,87,90) have mixed types.Specify dtype option on import or set low_memory=False.\n",
      "  for chunk in tqdm(pd.read_csv('npidata_pfile_20050523-20230212.csv', usecols = npi_columns, chunksize = 10000)): #Reading data in by chuncks\n",
      "C:\\Users\\tjsim\\AppData\\Local\\Temp\\ipykernel_15764\\575694477.py:3: DtypeWarning: Columns (32,71,74,75,78,79,82,83,86,87,90,91,94,95,98) have mixed types.Specify dtype option on import or set low_memory=False.\n",
      "  for chunk in tqdm(pd.read_csv('npidata_pfile_20050523-20230212.csv', usecols = npi_columns, chunksize = 10000)): #Reading data in by chuncks\n",
      "C:\\Users\\tjsim\\AppData\\Local\\Temp\\ipykernel_15764\\575694477.py:3: DtypeWarning: Columns (32,67,70,71,74,75,78,79,82,83,86,87,90,91,94,95,98,99,102) have mixed types.Specify dtype option on import or set low_memory=False.\n",
      "  for chunk in tqdm(pd.read_csv('npidata_pfile_20050523-20230212.csv', usecols = npi_columns, chunksize = 10000)): #Reading data in by chuncks\n",
      "C:\\Users\\tjsim\\AppData\\Local\\Temp\\ipykernel_15764\\575694477.py:3: DtypeWarning: Columns (63,66,67,70,71,74,75,78,79,82,83,86,87,90) have mixed types.Specify dtype option on import or set low_memory=False.\n",
      "  for chunk in tqdm(pd.read_csv('npidata_pfile_20050523-20230212.csv', usecols = npi_columns, chunksize = 10000)): #Reading data in by chuncks\n",
      "C:\\Users\\tjsim\\AppData\\Local\\Temp\\ipykernel_15764\\575694477.py:3: DtypeWarning: Columns (67,70,71,74) have mixed types.Specify dtype option on import or set low_memory=False.\n",
      "  for chunk in tqdm(pd.read_csv('npidata_pfile_20050523-20230212.csv', usecols = npi_columns, chunksize = 10000)): #Reading data in by chuncks\n",
      "C:\\Users\\tjsim\\AppData\\Local\\Temp\\ipykernel_15764\\575694477.py:3: DtypeWarning: Columns (71,74,75,78,79,82,83,86) have mixed types.Specify dtype option on import or set low_memory=False.\n",
      "  for chunk in tqdm(pd.read_csv('npidata_pfile_20050523-20230212.csv', usecols = npi_columns, chunksize = 10000)): #Reading data in by chuncks\n",
      "C:\\Users\\tjsim\\AppData\\Local\\Temp\\ipykernel_15764\\575694477.py:3: DtypeWarning: Columns (32,63,66,67,70,71,74,75,78,79,82,83,86,87,90,91,94) have mixed types.Specify dtype option on import or set low_memory=False.\n",
      "  for chunk in tqdm(pd.read_csv('npidata_pfile_20050523-20230212.csv', usecols = npi_columns, chunksize = 10000)): #Reading data in by chuncks\n",
      "C:\\Users\\tjsim\\AppData\\Local\\Temp\\ipykernel_15764\\575694477.py:3: DtypeWarning: Columns (63,66,67,70,71,74,75,78,79,82,83,86,87,90,91,94,95,98,99,102) have mixed types.Specify dtype option on import or set low_memory=False.\n",
      "  for chunk in tqdm(pd.read_csv('npidata_pfile_20050523-20230212.csv', usecols = npi_columns, chunksize = 10000)): #Reading data in by chuncks\n",
      "C:\\Users\\tjsim\\AppData\\Local\\Temp\\ipykernel_15764\\575694477.py:3: DtypeWarning: Columns (67,70,71,74,75,78,79,82,83,86,87,90,91,94,95,98,99,102,103,106) have mixed types.Specify dtype option on import or set low_memory=False.\n",
      "  for chunk in tqdm(pd.read_csv('npidata_pfile_20050523-20230212.csv', usecols = npi_columns, chunksize = 10000)): #Reading data in by chuncks\n",
      "C:\\Users\\tjsim\\AppData\\Local\\Temp\\ipykernel_15764\\575694477.py:3: DtypeWarning: Columns (32,71,74,75,78,79,82) have mixed types.Specify dtype option on import or set low_memory=False.\n",
      "  for chunk in tqdm(pd.read_csv('npidata_pfile_20050523-20230212.csv', usecols = npi_columns, chunksize = 10000)): #Reading data in by chuncks\n",
      "C:\\Users\\tjsim\\AppData\\Local\\Temp\\ipykernel_15764\\575694477.py:3: DtypeWarning: Columns (32,63,66,67,70,71,74) have mixed types.Specify dtype option on import or set low_memory=False.\n",
      "  for chunk in tqdm(pd.read_csv('npidata_pfile_20050523-20230212.csv', usecols = npi_columns, chunksize = 10000)): #Reading data in by chuncks\n",
      "C:\\Users\\tjsim\\AppData\\Local\\Temp\\ipykernel_15764\\575694477.py:3: DtypeWarning: Columns (67,70,71,74,75,78,79,82,83,86,87,90,91,94) have mixed types.Specify dtype option on import or set low_memory=False.\n",
      "  for chunk in tqdm(pd.read_csv('npidata_pfile_20050523-20230212.csv', usecols = npi_columns, chunksize = 10000)): #Reading data in by chuncks\n",
      "C:\\Users\\tjsim\\AppData\\Local\\Temp\\ipykernel_15764\\575694477.py:3: DtypeWarning: Columns (63,66,67,70,71,74,75,78,79,82) have mixed types.Specify dtype option on import or set low_memory=False.\n",
      "  for chunk in tqdm(pd.read_csv('npidata_pfile_20050523-20230212.csv', usecols = npi_columns, chunksize = 10000)): #Reading data in by chuncks\n"
     ]
    },
    {
     "name": "stderr",
     "output_type": "stream",
     "text": [
      "C:\\Users\\tjsim\\AppData\\Local\\Temp\\ipykernel_15764\\575694477.py:3: DtypeWarning: Columns (32,75,78,79,82,83,86) have mixed types.Specify dtype option on import or set low_memory=False.\n",
      "  for chunk in tqdm(pd.read_csv('npidata_pfile_20050523-20230212.csv', usecols = npi_columns, chunksize = 10000)): #Reading data in by chuncks\n",
      "C:\\Users\\tjsim\\AppData\\Local\\Temp\\ipykernel_15764\\575694477.py:3: DtypeWarning: Columns (75,78,79,82,83,86,87,90,91,94,95,98) have mixed types.Specify dtype option on import or set low_memory=False.\n",
      "  for chunk in tqdm(pd.read_csv('npidata_pfile_20050523-20230212.csv', usecols = npi_columns, chunksize = 10000)): #Reading data in by chuncks\n",
      "C:\\Users\\tjsim\\AppData\\Local\\Temp\\ipykernel_15764\\575694477.py:3: DtypeWarning: Columns (32,75,78,79,82,83,86,87,90,91,94,95,98) have mixed types.Specify dtype option on import or set low_memory=False.\n",
      "  for chunk in tqdm(pd.read_csv('npidata_pfile_20050523-20230212.csv', usecols = npi_columns, chunksize = 10000)): #Reading data in by chuncks\n",
      "C:\\Users\\tjsim\\AppData\\Local\\Temp\\ipykernel_15764\\575694477.py:3: DtypeWarning: Columns (32,87,90,91,94,95,98,99,102) have mixed types.Specify dtype option on import or set low_memory=False.\n",
      "  for chunk in tqdm(pd.read_csv('npidata_pfile_20050523-20230212.csv', usecols = npi_columns, chunksize = 10000)): #Reading data in by chuncks\n",
      "C:\\Users\\tjsim\\AppData\\Local\\Temp\\ipykernel_15764\\575694477.py:3: DtypeWarning: Columns (32,75,78,79,82,83,86,87,90,91,94) have mixed types.Specify dtype option on import or set low_memory=False.\n",
      "  for chunk in tqdm(pd.read_csv('npidata_pfile_20050523-20230212.csv', usecols = npi_columns, chunksize = 10000)): #Reading data in by chuncks\n",
      "C:\\Users\\tjsim\\AppData\\Local\\Temp\\ipykernel_15764\\575694477.py:3: DtypeWarning: Columns (32,75,78,79,82,83,86,87,90,91,94,95,98,99,102,103,106) have mixed types.Specify dtype option on import or set low_memory=False.\n",
      "  for chunk in tqdm(pd.read_csv('npidata_pfile_20050523-20230212.csv', usecols = npi_columns, chunksize = 10000)): #Reading data in by chuncks\n",
      "C:\\Users\\tjsim\\AppData\\Local\\Temp\\ipykernel_15764\\575694477.py:3: DtypeWarning: Columns (67,70,71,74,75,78,79,82,83,86) have mixed types.Specify dtype option on import or set low_memory=False.\n",
      "  for chunk in tqdm(pd.read_csv('npidata_pfile_20050523-20230212.csv', usecols = npi_columns, chunksize = 10000)): #Reading data in by chuncks\n",
      "C:\\Users\\tjsim\\AppData\\Local\\Temp\\ipykernel_15764\\575694477.py:3: DtypeWarning: Columns (32,71,74,75,78) have mixed types.Specify dtype option on import or set low_memory=False.\n",
      "  for chunk in tqdm(pd.read_csv('npidata_pfile_20050523-20230212.csv', usecols = npi_columns, chunksize = 10000)): #Reading data in by chuncks\n",
      "C:\\Users\\tjsim\\AppData\\Local\\Temp\\ipykernel_15764\\575694477.py:3: DtypeWarning: Columns (32,87,90,91,94,95,98,99,102,103,106) have mixed types.Specify dtype option on import or set low_memory=False.\n",
      "  for chunk in tqdm(pd.read_csv('npidata_pfile_20050523-20230212.csv', usecols = npi_columns, chunksize = 10000)): #Reading data in by chuncks\n",
      "C:\\Users\\tjsim\\AppData\\Local\\Temp\\ipykernel_15764\\575694477.py:3: DtypeWarning: Columns (71,74,75,78,79,82,83,86,87,90,91,94,95,98,99,102,103,106) have mixed types.Specify dtype option on import or set low_memory=False.\n",
      "  for chunk in tqdm(pd.read_csv('npidata_pfile_20050523-20230212.csv', usecols = npi_columns, chunksize = 10000)): #Reading data in by chuncks\n",
      "C:\\Users\\tjsim\\AppData\\Local\\Temp\\ipykernel_15764\\575694477.py:3: DtypeWarning: Columns (4,79,82,83,86,87,90,91,94,95,98,99,102,103,106) have mixed types.Specify dtype option on import or set low_memory=False.\n",
      "  for chunk in tqdm(pd.read_csv('npidata_pfile_20050523-20230212.csv', usecols = npi_columns, chunksize = 10000)): #Reading data in by chuncks\n",
      "C:\\Users\\tjsim\\AppData\\Local\\Temp\\ipykernel_15764\\575694477.py:3: DtypeWarning: Columns (4,67,70,71,74,75,78,79,82) have mixed types.Specify dtype option on import or set low_memory=False.\n",
      "  for chunk in tqdm(pd.read_csv('npidata_pfile_20050523-20230212.csv', usecols = npi_columns, chunksize = 10000)): #Reading data in by chuncks\n",
      "C:\\Users\\tjsim\\AppData\\Local\\Temp\\ipykernel_15764\\575694477.py:3: DtypeWarning: Columns (4,79,82,83,86,87,90,91,94,95,98) have mixed types.Specify dtype option on import or set low_memory=False.\n",
      "  for chunk in tqdm(pd.read_csv('npidata_pfile_20050523-20230212.csv', usecols = npi_columns, chunksize = 10000)): #Reading data in by chuncks\n",
      "C:\\Users\\tjsim\\AppData\\Local\\Temp\\ipykernel_15764\\575694477.py:3: DtypeWarning: Columns (75,78,79,82,83,86,87,90,91,94,95,98,99,102,103,106) have mixed types.Specify dtype option on import or set low_memory=False.\n",
      "  for chunk in tqdm(pd.read_csv('npidata_pfile_20050523-20230212.csv', usecols = npi_columns, chunksize = 10000)): #Reading data in by chuncks\n",
      "C:\\Users\\tjsim\\AppData\\Local\\Temp\\ipykernel_15764\\575694477.py:3: DtypeWarning: Columns (83,86,87,90,91,94,95,98,99,102,103,106) have mixed types.Specify dtype option on import or set low_memory=False.\n",
      "  for chunk in tqdm(pd.read_csv('npidata_pfile_20050523-20230212.csv', usecols = npi_columns, chunksize = 10000)): #Reading data in by chuncks\n",
      "C:\\Users\\tjsim\\AppData\\Local\\Temp\\ipykernel_15764\\575694477.py:3: DtypeWarning: Columns (32,79,82,83,86,87,90) have mixed types.Specify dtype option on import or set low_memory=False.\n",
      "  for chunk in tqdm(pd.read_csv('npidata_pfile_20050523-20230212.csv', usecols = npi_columns, chunksize = 10000)): #Reading data in by chuncks\n",
      "C:\\Users\\tjsim\\AppData\\Local\\Temp\\ipykernel_15764\\575694477.py:3: DtypeWarning: Columns (32,79,82,83,86,87,90,91,94) have mixed types.Specify dtype option on import or set low_memory=False.\n",
      "  for chunk in tqdm(pd.read_csv('npidata_pfile_20050523-20230212.csv', usecols = npi_columns, chunksize = 10000)): #Reading data in by chuncks\n",
      "C:\\Users\\tjsim\\AppData\\Local\\Temp\\ipykernel_15764\\575694477.py:3: DtypeWarning: Columns (32,83,86,87,90,91,94,95,98,99,102,103,106) have mixed types.Specify dtype option on import or set low_memory=False.\n",
      "  for chunk in tqdm(pd.read_csv('npidata_pfile_20050523-20230212.csv', usecols = npi_columns, chunksize = 10000)): #Reading data in by chuncks\n",
      "C:\\Users\\tjsim\\AppData\\Local\\Temp\\ipykernel_15764\\575694477.py:3: DtypeWarning: Columns (79,82,83,86,87,90,91,94,95,98,99,102,103,106) have mixed types.Specify dtype option on import or set low_memory=False.\n",
      "  for chunk in tqdm(pd.read_csv('npidata_pfile_20050523-20230212.csv', usecols = npi_columns, chunksize = 10000)): #Reading data in by chuncks\n",
      "C:\\Users\\tjsim\\AppData\\Local\\Temp\\ipykernel_15764\\575694477.py:3: DtypeWarning: Columns (32,91,94,95,98,99,102,103,106) have mixed types.Specify dtype option on import or set low_memory=False.\n",
      "  for chunk in tqdm(pd.read_csv('npidata_pfile_20050523-20230212.csv', usecols = npi_columns, chunksize = 10000)): #Reading data in by chuncks\n",
      "C:\\Users\\tjsim\\AppData\\Local\\Temp\\ipykernel_15764\\575694477.py:3: DtypeWarning: Columns (5,6,7,8,9,10,32,67,70,71,74,75,78,79,82,83,86,87,90,91,94,95,98,99,102,103,106) have mixed types.Specify dtype option on import or set low_memory=False.\n",
      "  for chunk in tqdm(pd.read_csv('npidata_pfile_20050523-20230212.csv', usecols = npi_columns, chunksize = 10000)): #Reading data in by chuncks\n",
      "C:\\Users\\tjsim\\AppData\\Local\\Temp\\ipykernel_15764\\575694477.py:3: DtypeWarning: Columns (32,91,94,95,98,99,102) have mixed types.Specify dtype option on import or set low_memory=False.\n",
      "  for chunk in tqdm(pd.read_csv('npidata_pfile_20050523-20230212.csv', usecols = npi_columns, chunksize = 10000)): #Reading data in by chuncks\n",
      "C:\\Users\\tjsim\\AppData\\Local\\Temp\\ipykernel_15764\\575694477.py:3: DtypeWarning: Columns (32,75,78,79,82,83,86,87,90,91,94,95,98,99,102) have mixed types.Specify dtype option on import or set low_memory=False.\n",
      "  for chunk in tqdm(pd.read_csv('npidata_pfile_20050523-20230212.csv', usecols = npi_columns, chunksize = 10000)): #Reading data in by chuncks\n",
      "C:\\Users\\tjsim\\AppData\\Local\\Temp\\ipykernel_15764\\575694477.py:3: DtypeWarning: Columns (32,95,98,99,102,103,106) have mixed types.Specify dtype option on import or set low_memory=False.\n",
      "  for chunk in tqdm(pd.read_csv('npidata_pfile_20050523-20230212.csv', usecols = npi_columns, chunksize = 10000)): #Reading data in by chuncks\n",
      "C:\\Users\\tjsim\\AppData\\Local\\Temp\\ipykernel_15764\\575694477.py:3: DtypeWarning: Columns (32,103,106) have mixed types.Specify dtype option on import or set low_memory=False.\n",
      "  for chunk in tqdm(pd.read_csv('npidata_pfile_20050523-20230212.csv', usecols = npi_columns, chunksize = 10000)): #Reading data in by chuncks\n"
     ]
    },
    {
     "name": "stderr",
     "output_type": "stream",
     "text": [
      "C:\\Users\\tjsim\\AppData\\Local\\Temp\\ipykernel_15764\\575694477.py:3: DtypeWarning: Columns (32,87,90,91,94) have mixed types.Specify dtype option on import or set low_memory=False.\n",
      "  for chunk in tqdm(pd.read_csv('npidata_pfile_20050523-20230212.csv', usecols = npi_columns, chunksize = 10000)): #Reading data in by chuncks\n",
      "C:\\Users\\tjsim\\AppData\\Local\\Temp\\ipykernel_15764\\575694477.py:3: DtypeWarning: Columns (32,99,102,103,106) have mixed types.Specify dtype option on import or set low_memory=False.\n",
      "  for chunk in tqdm(pd.read_csv('npidata_pfile_20050523-20230212.csv', usecols = npi_columns, chunksize = 10000)): #Reading data in by chuncks\n",
      "C:\\Users\\tjsim\\AppData\\Local\\Temp\\ipykernel_15764\\575694477.py:3: DtypeWarning: Columns (79,82,83,86,87,90,91,94,95,98) have mixed types.Specify dtype option on import or set low_memory=False.\n",
      "  for chunk in tqdm(pd.read_csv('npidata_pfile_20050523-20230212.csv', usecols = npi_columns, chunksize = 10000)): #Reading data in by chuncks\n",
      "C:\\Users\\tjsim\\AppData\\Local\\Temp\\ipykernel_15764\\575694477.py:3: DtypeWarning: Columns (32,67,70,71,74,75,78,79,82,83,86,87,90,91,94,95,98,99,102,103,106) have mixed types.Specify dtype option on import or set low_memory=False.\n",
      "  for chunk in tqdm(pd.read_csv('npidata_pfile_20050523-20230212.csv', usecols = npi_columns, chunksize = 10000)): #Reading data in by chuncks\n",
      "C:\\Users\\tjsim\\AppData\\Local\\Temp\\ipykernel_15764\\575694477.py:3: DtypeWarning: Columns (95,98,99,102,103,106) have mixed types.Specify dtype option on import or set low_memory=False.\n",
      "  for chunk in tqdm(pd.read_csv('npidata_pfile_20050523-20230212.csv', usecols = npi_columns, chunksize = 10000)): #Reading data in by chuncks\n",
      "C:\\Users\\tjsim\\AppData\\Local\\Temp\\ipykernel_15764\\575694477.py:3: DtypeWarning: Columns (87,90,91,94,95,98,99,102,103,106) have mixed types.Specify dtype option on import or set low_memory=False.\n",
      "  for chunk in tqdm(pd.read_csv('npidata_pfile_20050523-20230212.csv', usecols = npi_columns, chunksize = 10000)): #Reading data in by chuncks\n",
      "C:\\Users\\tjsim\\AppData\\Local\\Temp\\ipykernel_15764\\575694477.py:3: DtypeWarning: Columns (32,67,70,71,74,75,78,79,82,83,86,87,90,91,94,95,98) have mixed types.Specify dtype option on import or set low_memory=False.\n",
      "  for chunk in tqdm(pd.read_csv('npidata_pfile_20050523-20230212.csv', usecols = npi_columns, chunksize = 10000)): #Reading data in by chuncks\n",
      "C:\\Users\\tjsim\\AppData\\Local\\Temp\\ipykernel_15764\\575694477.py:3: DtypeWarning: Columns (99,102,103,106) have mixed types.Specify dtype option on import or set low_memory=False.\n",
      "  for chunk in tqdm(pd.read_csv('npidata_pfile_20050523-20230212.csv', usecols = npi_columns, chunksize = 10000)): #Reading data in by chuncks\n",
      "C:\\Users\\tjsim\\AppData\\Local\\Temp\\ipykernel_15764\\575694477.py:3: DtypeWarning: Columns (32) have mixed types.Specify dtype option on import or set low_memory=False.\n",
      "  for chunk in tqdm(pd.read_csv('npidata_pfile_20050523-20230212.csv', usecols = npi_columns, chunksize = 10000)): #Reading data in by chuncks\n",
      "C:\\Users\\tjsim\\AppData\\Local\\Temp\\ipykernel_15764\\575694477.py:3: DtypeWarning: Columns (91,94,95,98,99,102,103,106) have mixed types.Specify dtype option on import or set low_memory=False.\n",
      "  for chunk in tqdm(pd.read_csv('npidata_pfile_20050523-20230212.csv', usecols = npi_columns, chunksize = 10000)): #Reading data in by chuncks\n",
      "C:\\Users\\tjsim\\AppData\\Local\\Temp\\ipykernel_15764\\575694477.py:3: DtypeWarning: Columns (83,86,87,90,91,94,95,98,99,102) have mixed types.Specify dtype option on import or set low_memory=False.\n",
      "  for chunk in tqdm(pd.read_csv('npidata_pfile_20050523-20230212.csv', usecols = npi_columns, chunksize = 10000)): #Reading data in by chuncks\n",
      "C:\\Users\\tjsim\\AppData\\Local\\Temp\\ipykernel_15764\\575694477.py:3: DtypeWarning: Columns (32,83,86,87,90,91,94,95,98,99,102) have mixed types.Specify dtype option on import or set low_memory=False.\n",
      "  for chunk in tqdm(pd.read_csv('npidata_pfile_20050523-20230212.csv', usecols = npi_columns, chunksize = 10000)): #Reading data in by chuncks\n",
      "C:\\Users\\tjsim\\AppData\\Local\\Temp\\ipykernel_15764\\575694477.py:3: DtypeWarning: Columns (103,106) have mixed types.Specify dtype option on import or set low_memory=False.\n",
      "  for chunk in tqdm(pd.read_csv('npidata_pfile_20050523-20230212.csv', usecols = npi_columns, chunksize = 10000)): #Reading data in by chuncks\n",
      "C:\\Users\\tjsim\\AppData\\Local\\Temp\\ipykernel_15764\\575694477.py:3: DtypeWarning: Columns (32,83,86,87,90) have mixed types.Specify dtype option on import or set low_memory=False.\n",
      "  for chunk in tqdm(pd.read_csv('npidata_pfile_20050523-20230212.csv', usecols = npi_columns, chunksize = 10000)): #Reading data in by chuncks\n",
      "C:\\Users\\tjsim\\AppData\\Local\\Temp\\ipykernel_15764\\575694477.py:3: DtypeWarning: Columns (87,90,91,94,95,98,99,102) have mixed types.Specify dtype option on import or set low_memory=False.\n",
      "  for chunk in tqdm(pd.read_csv('npidata_pfile_20050523-20230212.csv', usecols = npi_columns, chunksize = 10000)): #Reading data in by chuncks\n",
      "C:\\Users\\tjsim\\AppData\\Local\\Temp\\ipykernel_15764\\575694477.py:3: DtypeWarning: Columns (79,82,83,86,87,90,91,94) have mixed types.Specify dtype option on import or set low_memory=False.\n",
      "  for chunk in tqdm(pd.read_csv('npidata_pfile_20050523-20230212.csv', usecols = npi_columns, chunksize = 10000)): #Reading data in by chuncks\n",
      "C:\\Users\\tjsim\\AppData\\Local\\Temp\\ipykernel_15764\\575694477.py:3: DtypeWarning: Columns (75,78,79,82,83,86,87,90,91,94,95,98,99,102) have mixed types.Specify dtype option on import or set low_memory=False.\n",
      "  for chunk in tqdm(pd.read_csv('npidata_pfile_20050523-20230212.csv', usecols = npi_columns, chunksize = 10000)): #Reading data in by chuncks\n",
      "C:\\Users\\tjsim\\AppData\\Local\\Temp\\ipykernel_15764\\575694477.py:3: DtypeWarning: Columns (79,82,83,86,87,90,91,94,95,98,99,102) have mixed types.Specify dtype option on import or set low_memory=False.\n",
      "  for chunk in tqdm(pd.read_csv('npidata_pfile_20050523-20230212.csv', usecols = npi_columns, chunksize = 10000)): #Reading data in by chuncks\n",
      "C:\\Users\\tjsim\\AppData\\Local\\Temp\\ipykernel_15764\\575694477.py:3: DtypeWarning: Columns (32,95,98) have mixed types.Specify dtype option on import or set low_memory=False.\n",
      "  for chunk in tqdm(pd.read_csv('npidata_pfile_20050523-20230212.csv', usecols = npi_columns, chunksize = 10000)): #Reading data in by chuncks\n",
      "C:\\Users\\tjsim\\AppData\\Local\\Temp\\ipykernel_15764\\575694477.py:3: DtypeWarning: Columns (32,79,82,83,86,87,90,91,94,95,98) have mixed types.Specify dtype option on import or set low_memory=False.\n",
      "  for chunk in tqdm(pd.read_csv('npidata_pfile_20050523-20230212.csv', usecols = npi_columns, chunksize = 10000)): #Reading data in by chuncks\n",
      "C:\\Users\\tjsim\\AppData\\Local\\Temp\\ipykernel_15764\\575694477.py:3: DtypeWarning: Columns (5,6,7,8,9,10,32,83,86,87,90,91,94,95,98,99,102,103,106) have mixed types.Specify dtype option on import or set low_memory=False.\n",
      "  for chunk in tqdm(pd.read_csv('npidata_pfile_20050523-20230212.csv', usecols = npi_columns, chunksize = 10000)): #Reading data in by chuncks\n",
      "C:\\Users\\tjsim\\AppData\\Local\\Temp\\ipykernel_15764\\575694477.py:3: DtypeWarning: Columns (5,6,7,8,10,32,95,98,99,102,103,106) have mixed types.Specify dtype option on import or set low_memory=False.\n",
      "  for chunk in tqdm(pd.read_csv('npidata_pfile_20050523-20230212.csv', usecols = npi_columns, chunksize = 10000)): #Reading data in by chuncks\n",
      "C:\\Users\\tjsim\\AppData\\Local\\Temp\\ipykernel_15764\\575694477.py:3: DtypeWarning: Columns (5,6,7,8,10) have mixed types.Specify dtype option on import or set low_memory=False.\n",
      "  for chunk in tqdm(pd.read_csv('npidata_pfile_20050523-20230212.csv', usecols = npi_columns, chunksize = 10000)): #Reading data in by chuncks\n",
      "C:\\Users\\tjsim\\AppData\\Local\\Temp\\ipykernel_15764\\575694477.py:3: DtypeWarning: Columns (5,6,10,32,87,90,91,94,95,98,99,102,103,106) have mixed types.Specify dtype option on import or set low_memory=False.\n",
      "  for chunk in tqdm(pd.read_csv('npidata_pfile_20050523-20230212.csv', usecols = npi_columns, chunksize = 10000)): #Reading data in by chuncks\n",
      "C:\\Users\\tjsim\\AppData\\Local\\Temp\\ipykernel_15764\\575694477.py:3: DtypeWarning: Columns (5,6,7,8,10,32,87,90,91,94,95,98,99,102) have mixed types.Specify dtype option on import or set low_memory=False.\n",
      "  for chunk in tqdm(pd.read_csv('npidata_pfile_20050523-20230212.csv', usecols = npi_columns, chunksize = 10000)): #Reading data in by chuncks\n",
      "C:\\Users\\tjsim\\AppData\\Local\\Temp\\ipykernel_15764\\575694477.py:3: DtypeWarning: Columns (5,6,8,10) have mixed types.Specify dtype option on import or set low_memory=False.\n",
      "  for chunk in tqdm(pd.read_csv('npidata_pfile_20050523-20230212.csv', usecols = npi_columns, chunksize = 10000)): #Reading data in by chuncks\n"
     ]
    },
    {
     "name": "stderr",
     "output_type": "stream",
     "text": [
      "C:\\Users\\tjsim\\AppData\\Local\\Temp\\ipykernel_15764\\575694477.py:3: DtypeWarning: Columns (5,6,8,10,91,94,95,98,99,102) have mixed types.Specify dtype option on import or set low_memory=False.\n",
      "  for chunk in tqdm(pd.read_csv('npidata_pfile_20050523-20230212.csv', usecols = npi_columns, chunksize = 10000)): #Reading data in by chuncks\n",
      "C:\\Users\\tjsim\\AppData\\Local\\Temp\\ipykernel_15764\\575694477.py:3: DtypeWarning: Columns (5,6,7,10,99,102,103,106) have mixed types.Specify dtype option on import or set low_memory=False.\n",
      "  for chunk in tqdm(pd.read_csv('npidata_pfile_20050523-20230212.csv', usecols = npi_columns, chunksize = 10000)): #Reading data in by chuncks\n",
      "C:\\Users\\tjsim\\AppData\\Local\\Temp\\ipykernel_15764\\575694477.py:3: DtypeWarning: Columns (5,6,7,8,10,87,90,91,94,95,98,99,102,103,106) have mixed types.Specify dtype option on import or set low_memory=False.\n",
      "  for chunk in tqdm(pd.read_csv('npidata_pfile_20050523-20230212.csv', usecols = npi_columns, chunksize = 10000)): #Reading data in by chuncks\n",
      "C:\\Users\\tjsim\\AppData\\Local\\Temp\\ipykernel_15764\\575694477.py:3: DtypeWarning: Columns (5,6,7,8,10,79,82,83,86,87,90,91,94,95,98,99,102,103,106) have mixed types.Specify dtype option on import or set low_memory=False.\n",
      "  for chunk in tqdm(pd.read_csv('npidata_pfile_20050523-20230212.csv', usecols = npi_columns, chunksize = 10000)): #Reading data in by chuncks\n",
      "C:\\Users\\tjsim\\AppData\\Local\\Temp\\ipykernel_15764\\575694477.py:3: DtypeWarning: Columns (5,6,7,8,9,10,95,98,99,102,103,106) have mixed types.Specify dtype option on import or set low_memory=False.\n",
      "  for chunk in tqdm(pd.read_csv('npidata_pfile_20050523-20230212.csv', usecols = npi_columns, chunksize = 10000)): #Reading data in by chuncks\n",
      "C:\\Users\\tjsim\\AppData\\Local\\Temp\\ipykernel_15764\\575694477.py:3: DtypeWarning: Columns (32,75,78,79,82,83,86,87,90) have mixed types.Specify dtype option on import or set low_memory=False.\n",
      "  for chunk in tqdm(pd.read_csv('npidata_pfile_20050523-20230212.csv', usecols = npi_columns, chunksize = 10000)): #Reading data in by chuncks\n",
      "C:\\Users\\tjsim\\AppData\\Local\\Temp\\ipykernel_15764\\575694477.py:3: DtypeWarning: Columns (4,83,86,87,90,91,94,95,98,99,102,103,106) have mixed types.Specify dtype option on import or set low_memory=False.\n",
      "  for chunk in tqdm(pd.read_csv('npidata_pfile_20050523-20230212.csv', usecols = npi_columns, chunksize = 10000)): #Reading data in by chuncks\n",
      "C:\\Users\\tjsim\\AppData\\Local\\Temp\\ipykernel_15764\\575694477.py:3: DtypeWarning: Columns (32,95,98,99,102) have mixed types.Specify dtype option on import or set low_memory=False.\n",
      "  for chunk in tqdm(pd.read_csv('npidata_pfile_20050523-20230212.csv', usecols = npi_columns, chunksize = 10000)): #Reading data in by chuncks\n",
      "C:\\Users\\tjsim\\AppData\\Local\\Temp\\ipykernel_15764\\575694477.py:3: DtypeWarning: Columns (95,98,99,102) have mixed types.Specify dtype option on import or set low_memory=False.\n",
      "  for chunk in tqdm(pd.read_csv('npidata_pfile_20050523-20230212.csv', usecols = npi_columns, chunksize = 10000)): #Reading data in by chuncks\n"
     ]
    }
   ],
   "source": [
    "db = sqlite3.connect('hop_teaming.sqlite')\n",
    "\n",
    "for chunk in tqdm(pd.read_csv('npidata_pfile_20050523-20230212.csv', usecols = npi_columns, chunksize = 10000)): #Reading data in by chuncks\n",
    "    list_df = [] \n",
    "\n",
    "    for i in range (1,16): #Searching for the taxonomy code and creating its own column\n",
    "        yes = chunk[\n",
    "                    chunk[f'Healthcare Provider Primary Taxonomy Switch_{i}'] == 'Y'\n",
    "                ][['NPI', f'Healthcare Provider Taxonomy Code_{i}']\n",
    "                 ].rename(columns={f'Healthcare Provider Taxonomy Code_{i}':'taxonomy_code'})\n",
    "\n",
    "        list_df.append(yes) \n",
    "    \n",
    "    final = pd.merge(left = chunk, right = pd.concat(list_df), how = 'left', on = 'NPI')[npi_keeper_columns] #Merging the taxonomy codes back to npi data \n",
    "    \n",
    "    final.columns = [x.lower().replace(' ', '_') for x in final.columns] #cleaning column names\n",
    "    final.to_sql('npi_data', db, if_exists = 'append', index = False) #building database\n",
    "\n"
   ]
  },
  {
   "cell_type": "code",
   "execution_count": 15,
   "id": "b66f9df8",
   "metadata": {},
   "outputs": [],
   "source": [
    "db.close()"
   ]
  },
  {
   "cell_type": "code",
   "execution_count": 16,
   "id": "35e2eb74",
   "metadata": {},
   "outputs": [],
   "source": [
    "nucc = pd.read_csv('nucc_taxonomy_230.csv', encoding = 'iso-8859-1')\n",
    "\n",
    "nucc.columns = [x.lower().replace(' ', '_') for x in nucc.columns]\n",
    "\n",
    "db = sqlite3.connect('hop_teaming.sqlite')\n",
    "\n",
    "nucc.to_sql('taxonomy', db, if_exists = 'append', index = False)"
   ]
  },
  {
   "cell_type": "code",
   "execution_count": 17,
   "id": "de9b42f1",
   "metadata": {},
   "outputs": [],
   "source": [
    "db.close()"
   ]
  },
  {
   "cell_type": "code",
   "execution_count": 18,
   "id": "78c71901-6f24-4ab3-8be4-30729fd580a2",
   "metadata": {},
   "outputs": [],
   "source": [
    "db = sqlite3.connect('hop_teaming.sqlite')\n",
    "\n",
    "pd.read_excel('ZIP_CBSA_122021.xlsx').to_sql('zipcode', db, if_exists = 'append', index = False)"
   ]
  },
  {
   "cell_type": "code",
   "execution_count": null,
   "id": "662e239d",
   "metadata": {},
   "outputs": [],
   "source": [
    "# Created index for from_npi and to_npi"
   ]
  },
  {
   "cell_type": "code",
   "execution_count": 32,
   "id": "4118e837",
   "metadata": {},
   "outputs": [],
   "source": [
    "db = sqlite3.connect('hop_teaming.sqlite')\n",
    "\n",
    "db.execute('CREATE INDEX from_npi ON hop(from_npi)')\n",
    "db.execute('CREATE INDEX to_npi ON hop(to_npi)')\n",
    "\n",
    "db.close()"
   ]
  },
  {
   "cell_type": "code",
   "execution_count": null,
   "id": "04bb7839",
   "metadata": {},
   "outputs": [],
   "source": [
    "# query to create db"
   ]
  },
  {
   "cell_type": "code",
   "execution_count": 9,
   "id": "154fd8e3",
   "metadata": {},
   "outputs": [],
   "source": [
    "query = '''\n",
    "WITH hospital_npi_data AS(\n",
    "    SELECT \n",
    "        DISTINCT entity_type_code AS entity,\n",
    "        npi,\n",
    "        `provider_organization_name_(legal_business_name)` AS organization,\n",
    "        SUBSTR(provider_business_practice_location_address_postal_code, 1, 5) AS zipcode,\n",
    "        taxonomy_code\n",
    "    FROM \n",
    "        npi_data\n",
    "    WHERE\n",
    "        entity_type_code = 2\n",
    ")\n",
    "    SELECT \n",
    "        to_npi,\n",
    "        code,\n",
    "        grouping,\n",
    "        classification,\n",
    "        specialization,\n",
    "        zip,\n",
    "        SUM(patient_count) AS total_patients \n",
    "    FROM \n",
    "        hop\n",
    "    INNER JOIN hospital_npi_data \n",
    "    ON hop.to_npi = hospital_npi_data.npi\n",
    "    LEFT JOIN taxonomy\n",
    "    ON taxonomy_code = code\n",
    "    LEFT JOIN zipcode\n",
    "    ON zipcode.zip = hospital_npi_data.zipcode\n",
    "    WHERE cbsa = 34980\n",
    "    GROUP BY\n",
    "        to_npi,\n",
    "        entity,\n",
    "        organization, \n",
    "        zipcode,\n",
    "        taxonomy_code,\n",
    "        code,\n",
    "        grouping,\n",
    "        classification,\n",
    "        specialization \n",
    "    ORDER BY total_patients DESC\n",
    "'''"
   ]
  },
  {
   "cell_type": "code",
   "execution_count": 10,
   "id": "2080fcb6",
   "metadata": {},
   "outputs": [],
   "source": [
    "with sqlite3.connect('hop_teaming.sqlite') as db: \n",
    "    referral_table = pd.read_sql(query,db)"
   ]
  },
  {
   "cell_type": "code",
   "execution_count": 11,
   "id": "61e73555",
   "metadata": {},
   "outputs": [
    {
     "data": {
      "text/html": [
       "<div>\n",
       "<style scoped>\n",
       "    .dataframe tbody tr th:only-of-type {\n",
       "        vertical-align: middle;\n",
       "    }\n",
       "\n",
       "    .dataframe tbody tr th {\n",
       "        vertical-align: top;\n",
       "    }\n",
       "\n",
       "    .dataframe thead th {\n",
       "        text-align: right;\n",
       "    }\n",
       "</style>\n",
       "<table border=\"1\" class=\"dataframe\">\n",
       "  <thead>\n",
       "    <tr style=\"text-align: right;\">\n",
       "      <th></th>\n",
       "      <th>to_npi</th>\n",
       "      <th>code</th>\n",
       "      <th>grouping</th>\n",
       "      <th>classification</th>\n",
       "      <th>specialization</th>\n",
       "      <th>zip</th>\n",
       "      <th>total_patients</th>\n",
       "    </tr>\n",
       "  </thead>\n",
       "  <tbody>\n",
       "    <tr>\n",
       "      <th>0</th>\n",
       "      <td>1003863580</td>\n",
       "      <td>207ZP0102X</td>\n",
       "      <td>Allopathic &amp; Osteopathic Physicians</td>\n",
       "      <td>Pathology</td>\n",
       "      <td>Anatomic Pathology &amp; Clinical Pathology</td>\n",
       "      <td>37217</td>\n",
       "      <td>1733907</td>\n",
       "    </tr>\n",
       "    <tr>\n",
       "      <th>1</th>\n",
       "      <td>1124075635</td>\n",
       "      <td>291U00000X</td>\n",
       "      <td>Laboratories</td>\n",
       "      <td>Clinical Medical Laboratory</td>\n",
       "      <td>None</td>\n",
       "      <td>37217</td>\n",
       "      <td>1174953</td>\n",
       "    </tr>\n",
       "    <tr>\n",
       "      <th>2</th>\n",
       "      <td>1104202761</td>\n",
       "      <td>207R00000X</td>\n",
       "      <td>Allopathic &amp; Osteopathic Physicians</td>\n",
       "      <td>Internal Medicine</td>\n",
       "      <td>None</td>\n",
       "      <td>37232</td>\n",
       "      <td>1166496</td>\n",
       "    </tr>\n",
       "    <tr>\n",
       "      <th>3</th>\n",
       "      <td>1093741464</td>\n",
       "      <td>207R00000X</td>\n",
       "      <td>Allopathic &amp; Osteopathic Physicians</td>\n",
       "      <td>Internal Medicine</td>\n",
       "      <td>None</td>\n",
       "      <td>37072</td>\n",
       "      <td>1126139</td>\n",
       "    </tr>\n",
       "    <tr>\n",
       "      <th>4</th>\n",
       "      <td>1235186800</td>\n",
       "      <td>291U00000X</td>\n",
       "      <td>Laboratories</td>\n",
       "      <td>Clinical Medical Laboratory</td>\n",
       "      <td>None</td>\n",
       "      <td>37217</td>\n",
       "      <td>1075639</td>\n",
       "    </tr>\n",
       "    <tr>\n",
       "      <th>...</th>\n",
       "      <td>...</td>\n",
       "      <td>...</td>\n",
       "      <td>...</td>\n",
       "      <td>...</td>\n",
       "      <td>...</td>\n",
       "      <td>...</td>\n",
       "      <td>...</td>\n",
       "    </tr>\n",
       "    <tr>\n",
       "      <th>1625</th>\n",
       "      <td>1295982775</td>\n",
       "      <td>261QP2300X</td>\n",
       "      <td>Ambulatory Health Care Facilities</td>\n",
       "      <td>Clinic/Center</td>\n",
       "      <td>Primary Care</td>\n",
       "      <td>37072</td>\n",
       "      <td>12</td>\n",
       "    </tr>\n",
       "    <tr>\n",
       "      <th>1626</th>\n",
       "      <td>1013116169</td>\n",
       "      <td>111N00000X</td>\n",
       "      <td>Chiropractic Providers</td>\n",
       "      <td>Chiropractor</td>\n",
       "      <td>None</td>\n",
       "      <td>37067</td>\n",
       "      <td>11</td>\n",
       "    </tr>\n",
       "    <tr>\n",
       "      <th>1627</th>\n",
       "      <td>1225466782</td>\n",
       "      <td>261QP2000X</td>\n",
       "      <td>Ambulatory Health Care Facilities</td>\n",
       "      <td>Clinic/Center</td>\n",
       "      <td>Physical Therapy</td>\n",
       "      <td>37201</td>\n",
       "      <td>11</td>\n",
       "    </tr>\n",
       "    <tr>\n",
       "      <th>1628</th>\n",
       "      <td>1427011915</td>\n",
       "      <td>261QR0400X</td>\n",
       "      <td>Ambulatory Health Care Facilities</td>\n",
       "      <td>Clinic/Center</td>\n",
       "      <td>Rehabilitation</td>\n",
       "      <td>37129</td>\n",
       "      <td>11</td>\n",
       "    </tr>\n",
       "    <tr>\n",
       "      <th>1629</th>\n",
       "      <td>1568647105</td>\n",
       "      <td>1041C0700X</td>\n",
       "      <td>Behavioral Health &amp; Social Service Providers</td>\n",
       "      <td>Social Worker</td>\n",
       "      <td>Clinical</td>\n",
       "      <td>37066</td>\n",
       "      <td>11</td>\n",
       "    </tr>\n",
       "  </tbody>\n",
       "</table>\n",
       "<p>1630 rows × 7 columns</p>\n",
       "</div>"
      ],
      "text/plain": [
       "          to_npi        code                                      grouping  \\\n",
       "0     1003863580  207ZP0102X           Allopathic & Osteopathic Physicians   \n",
       "1     1124075635  291U00000X                                  Laboratories   \n",
       "2     1104202761  207R00000X           Allopathic & Osteopathic Physicians   \n",
       "3     1093741464  207R00000X           Allopathic & Osteopathic Physicians   \n",
       "4     1235186800  291U00000X                                  Laboratories   \n",
       "...          ...         ...                                           ...   \n",
       "1625  1295982775  261QP2300X             Ambulatory Health Care Facilities   \n",
       "1626  1013116169  111N00000X                        Chiropractic Providers   \n",
       "1627  1225466782  261QP2000X             Ambulatory Health Care Facilities   \n",
       "1628  1427011915  261QR0400X             Ambulatory Health Care Facilities   \n",
       "1629  1568647105  1041C0700X  Behavioral Health & Social Service Providers   \n",
       "\n",
       "                   classification                           specialization  \\\n",
       "0                       Pathology  Anatomic Pathology & Clinical Pathology   \n",
       "1     Clinical Medical Laboratory                                     None   \n",
       "2               Internal Medicine                                     None   \n",
       "3               Internal Medicine                                     None   \n",
       "4     Clinical Medical Laboratory                                     None   \n",
       "...                           ...                                      ...   \n",
       "1625                Clinic/Center                             Primary Care   \n",
       "1626                 Chiropractor                                     None   \n",
       "1627                Clinic/Center                         Physical Therapy   \n",
       "1628                Clinic/Center                           Rehabilitation   \n",
       "1629                Social Worker                                 Clinical   \n",
       "\n",
       "        zip  total_patients  \n",
       "0     37217         1733907  \n",
       "1     37217         1174953  \n",
       "2     37232         1166496  \n",
       "3     37072         1126139  \n",
       "4     37217         1075639  \n",
       "...     ...             ...  \n",
       "1625  37072              12  \n",
       "1626  37067              11  \n",
       "1627  37201              11  \n",
       "1628  37129              11  \n",
       "1629  37066              11  \n",
       "\n",
       "[1630 rows x 7 columns]"
      ]
     },
     "execution_count": 11,
     "metadata": {},
     "output_type": "execute_result"
    }
   ],
   "source": [
    "referral_table  "
   ]
  },
  {
   "cell_type": "code",
   "execution_count": 26,
   "id": "a689c93e",
   "metadata": {},
   "outputs": [],
   "source": [
    "referral_table.to_csv('referral_table.csv')"
   ]
  }
 ],
 "metadata": {
  "kernelspec": {
   "display_name": "Python 3 (ipykernel)",
   "language": "python",
   "name": "python3"
  },
  "language_info": {
   "codemirror_mode": {
    "name": "ipython",
    "version": 3
   },
   "file_extension": ".py",
   "mimetype": "text/x-python",
   "name": "python",
   "nbconvert_exporter": "python",
   "pygments_lexer": "ipython3",
   "version": "3.9.12"
  }
 },
 "nbformat": 4,
 "nbformat_minor": 5
}
