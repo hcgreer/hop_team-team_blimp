{
 "cells": [
  {
   "cell_type": "code",
   "execution_count": 1,
   "id": "51fbf1b8",
   "metadata": {},
   "outputs": [],
   "source": [
    "import pandas as pd\n",
    "from tqdm.notebook import tqdm\n",
    "import sqlite3"
   ]
  },
  {
   "cell_type": "code",
   "execution_count": null,
   "id": "c2f8eba2",
   "metadata": {},
   "outputs": [],
   "source": [
    "#SELECT \n",
    "#name FROM \n",
    "#sqlite_schema\n",
    "#WHERE \n",
    "#type ='table' AND name NOT LIKE 'sqlite_%';\n"
   ]
  },
  {
   "cell_type": "code",
   "execution_count": 2,
   "id": "a21860ad",
   "metadata": {},
   "outputs": [
    {
     "data": {
      "application/vnd.jupyter.widget-view+json": {
       "model_id": "2f09b54c636444748c54ef9ce26cd8b7",
       "version_major": 2,
       "version_minor": 0
      },
      "text/plain": [
       "0it [00:00, ?it/s]"
      ]
     },
     "metadata": {},
     "output_type": "display_data"
    }
   ],
   "source": [
    "db = sqlite3.connect('hop_teaming.sqlite') #name sqlite then add dbs\n",
    "\n",
    "for chunk in tqdm(pd.read_csv('DocGraph_Hop_Teaming_2018.csv', chunksize = 10000)):\n",
    "    chunk.columns = [x.lower().replace(' ', '_') for x in chunk.columns]\n",
    "    chunk[(chunk['transaction_count'] >= 50) & (chunk['average_day_wait']<50)] # Clean up the column names\n",
    "    chunk.to_sql('hop', db, if_exists = 'append', index = False)             # Append the chunk to a calls table"
   ]
  },
  {
   "cell_type": "code",
   "execution_count": 35,
   "id": "dc60b935",
   "metadata": {},
   "outputs": [
    {
     "data": {
      "text/plain": [
       "<function Connection.close>"
      ]
     },
     "execution_count": 35,
     "metadata": {},
     "output_type": "execute_result"
    }
   ],
   "source": [
    "db.close"
   ]
  },
  {
   "cell_type": "code",
   "execution_count": null,
   "id": "ea1be2fa",
   "metadata": {},
   "outputs": [],
   "source": [
    "#'npidata_pfile_20050523-20230212.csv'\n",
    "#'nucc_taxonomy_230.csv'"
   ]
  },
  {
   "cell_type": "code",
   "execution_count": 4,
   "id": "1ada246d",
   "metadata": {},
   "outputs": [],
   "source": [
    "npi = pd.read_csv('npidata_pfile_20050523-20230212.csv', chunksize = 10000)"
   ]
  },
  {
   "cell_type": "code",
   "execution_count": 11,
   "id": "57312278",
   "metadata": {},
   "outputs": [
    {
     "name": "stderr",
     "output_type": "stream",
     "text": [
      "C:\\Users\\tjsim\\Anaconda\\lib\\site-packages\\IPython\\core\\interactiveshell.py:3309: DtypeWarning: Columns (32,60,64,67,68,69,70,71,72,73,74,75,76,77,78,79,81,82,83,85,86,87,89,90,91,93,94,151,155,159,161,162,163,165,166,167,169,170,174,314) have mixed types.Specify dtype option on import or set low_memory=False.\n",
      "  if await self.run_code(code, result, async_=asy):\n"
     ]
    }
   ],
   "source": [
    "npi = next(npi)"
   ]
  },
  {
   "cell_type": "code",
   "execution_count": 14,
   "id": "15993fdc",
   "metadata": {},
   "outputs": [],
   "source": [
    "npi_columns = ['NPI', \n",
    "    'Entity Type Code',\n",
    "    'Provider Organization Name (Legal Business Name)',\n",
    "    'Provider Last Name (Legal Name)',\n",
    "    'Provider First Name',\n",
    "    'Provider Middle Name',\n",
    "    'Provider Name Prefix Text',\n",
    "    'Provider Name Suffix Text',\n",
    "    'Provider Credential Text',\n",
    "    'Provider First Line Business Practice Location Address',\n",
    "    'Provider Second Line Business Practice Location Address',\n",
    "    'Provider Business Practice Location Address City Name',\n",
    "    'Provider Business Practice Location Address State Name',\n",
    "    'Provider Business Practice Location Address Postal Code',\n",
    "    'Healthcare Provider Taxonomy Code_1',\n",
    "    'Healthcare Provider Taxonomy Code_2',\n",
    "    'Healthcare Provider Taxonomy Code_3',\n",
    "    'Healthcare Provider Taxonomy Code_4',\n",
    "    'Healthcare Provider Taxonomy Code_5',\n",
    "    'Healthcare Provider Taxonomy Code_6',\n",
    "    'Healthcare Provider Taxonomy Code_7',\n",
    "    'Healthcare Provider Taxonomy Code_8',\n",
    "    'Healthcare Provider Taxonomy Code_9',\n",
    "    'Healthcare Provider Taxonomy Code_10',\n",
    "    'Healthcare Provider Taxonomy Code_11',\n",
    "    'Healthcare Provider Taxonomy Code_12',\n",
    "    'Healthcare Provider Taxonomy Code_13',\n",
    "    'Healthcare Provider Taxonomy Code_14',\n",
    "    'Healthcare Provider Taxonomy Code_15',\n",
    "    'Healthcare Provider Primary Taxonomy Switch_1',\n",
    "    'Healthcare Provider Primary Taxonomy Switch_2',\n",
    "    'Healthcare Provider Primary Taxonomy Switch_3',\n",
    "    'Healthcare Provider Primary Taxonomy Switch_4',\n",
    "    'Healthcare Provider Primary Taxonomy Switch_5',\n",
    "    'Healthcare Provider Primary Taxonomy Switch_6',\n",
    "    'Healthcare Provider Primary Taxonomy Switch_7',\n",
    "    'Healthcare Provider Primary Taxonomy Switch_8',\n",
    "    'Healthcare Provider Primary Taxonomy Switch_9',\n",
    "    'Healthcare Provider Primary Taxonomy Switch_10',\n",
    "    'Healthcare Provider Primary Taxonomy Switch_11',\n",
    "    'Healthcare Provider Primary Taxonomy Switch_12',\n",
    "    'Healthcare Provider Primary Taxonomy Switch_13',\n",
    "    'Healthcare Provider Primary Taxonomy Switch_14',\n",
    "    'Healthcare Provider Primary Taxonomy Switch_15']"
   ]
  },
  {
   "cell_type": "code",
   "execution_count": 15,
   "id": "7e2fc1a5",
   "metadata": {},
   "outputs": [],
   "source": [
    "npi_keeper_columns = ['NPI', \n",
    "    'Entity Type Code',\n",
    "    'Provider Organization Name (Legal Business Name)',\n",
    "    'Provider Last Name (Legal Name)',\n",
    "    'Provider First Name',\n",
    "    'Provider Middle Name',\n",
    "    'Provider Name Prefix Text',\n",
    "    'Provider Name Suffix Text',\n",
    "    'Provider Credential Text',\n",
    "    'Provider First Line Business Practice Location Address',\n",
    "    'Provider Second Line Business Practice Location Address',\n",
    "    'Provider Business Practice Location Address City Name',\n",
    "    'Provider Business Practice Location Address State Name',\n",
    "    'Provider Business Practice Location Address Postal Code',\n",
    "    'taxonomy_code']"
   ]
  },
  {
   "cell_type": "code",
   "execution_count": 17,
   "id": "a22971a7",
   "metadata": {
    "scrolled": true
   },
   "outputs": [
    {
     "data": {
      "application/vnd.jupyter.widget-view+json": {
       "model_id": "c21c7b9d529b4285a18107c46c12f0d3",
       "version_major": 2,
       "version_minor": 0
      },
      "text/plain": [
       "0it [00:00, ?it/s]"
      ]
     },
     "metadata": {},
     "output_type": "display_data"
    },
    {
     "name": "stderr",
     "output_type": "stream",
     "text": [
      "C:\\Users\\tjsim\\AppData\\Local\\Temp\\ipykernel_19284\\2338586223.py:3: DtypeWarning: Columns (71,74,75,78,79,82,83,86,87,90) have mixed types.Specify dtype option on import or set low_memory=False.\n",
      "  for chunk in tqdm(pd.read_csv('npidata_pfile_20050523-20230212.csv', usecols = npi_columns, chunksize = 10000)): #Reading data in by chuncks\n",
      "C:\\Users\\tjsim\\AppData\\Local\\Temp\\ipykernel_19284\\2338586223.py:3: DtypeWarning: Columns (32,67,70,71,74,75,78,79,82,83,86,87,90,91,94) have mixed types.Specify dtype option on import or set low_memory=False.\n",
      "  for chunk in tqdm(pd.read_csv('npidata_pfile_20050523-20230212.csv', usecols = npi_columns, chunksize = 10000)): #Reading data in by chuncks\n",
      "C:\\Users\\tjsim\\AppData\\Local\\Temp\\ipykernel_19284\\2338586223.py:3: DtypeWarning: Columns (32,71,74,75,78,79,82,83,86,87,90,91,94) have mixed types.Specify dtype option on import or set low_memory=False.\n",
      "  for chunk in tqdm(pd.read_csv('npidata_pfile_20050523-20230212.csv', usecols = npi_columns, chunksize = 10000)): #Reading data in by chuncks\n",
      "C:\\Users\\tjsim\\AppData\\Local\\Temp\\ipykernel_19284\\2338586223.py:3: DtypeWarning: Columns (32,79,82,83,86,87,90,91,94,95,98,99,102) have mixed types.Specify dtype option on import or set low_memory=False.\n",
      "  for chunk in tqdm(pd.read_csv('npidata_pfile_20050523-20230212.csv', usecols = npi_columns, chunksize = 10000)): #Reading data in by chuncks\n",
      "C:\\Users\\tjsim\\AppData\\Local\\Temp\\ipykernel_19284\\2338586223.py:3: DtypeWarning: Columns (32,67,70,71,74,75,78,79,82,83,86,87,90) have mixed types.Specify dtype option on import or set low_memory=False.\n",
      "  for chunk in tqdm(pd.read_csv('npidata_pfile_20050523-20230212.csv', usecols = npi_columns, chunksize = 10000)): #Reading data in by chuncks\n",
      "C:\\Users\\tjsim\\AppData\\Local\\Temp\\ipykernel_19284\\2338586223.py:3: DtypeWarning: Columns (32,71,74,75,78,79,82,83,86) have mixed types.Specify dtype option on import or set low_memory=False.\n",
      "  for chunk in tqdm(pd.read_csv('npidata_pfile_20050523-20230212.csv', usecols = npi_columns, chunksize = 10000)): #Reading data in by chuncks\n",
      "C:\\Users\\tjsim\\AppData\\Local\\Temp\\ipykernel_19284\\2338586223.py:3: DtypeWarning: Columns (32,67,70,71,74,75,78) have mixed types.Specify dtype option on import or set low_memory=False.\n",
      "  for chunk in tqdm(pd.read_csv('npidata_pfile_20050523-20230212.csv', usecols = npi_columns, chunksize = 10000)): #Reading data in by chuncks\n",
      "C:\\Users\\tjsim\\AppData\\Local\\Temp\\ipykernel_19284\\2338586223.py:3: DtypeWarning: Columns (32,71,74,75,78,79,82,83,86,87,90,91,94,95,98,99,102,103,106) have mixed types.Specify dtype option on import or set low_memory=False.\n",
      "  for chunk in tqdm(pd.read_csv('npidata_pfile_20050523-20230212.csv', usecols = npi_columns, chunksize = 10000)): #Reading data in by chuncks\n",
      "C:\\Users\\tjsim\\AppData\\Local\\Temp\\ipykernel_19284\\2338586223.py:3: DtypeWarning: Columns (71,74,75,78,79,82,83,86,87,90,91,94,95,98,99,102) have mixed types.Specify dtype option on import or set low_memory=False.\n",
      "  for chunk in tqdm(pd.read_csv('npidata_pfile_20050523-20230212.csv', usecols = npi_columns, chunksize = 10000)): #Reading data in by chuncks\n",
      "C:\\Users\\tjsim\\AppData\\Local\\Temp\\ipykernel_19284\\2338586223.py:3: DtypeWarning: Columns (32,79,82,83,86,87,90,91,94,95,98,99,102,103,106) have mixed types.Specify dtype option on import or set low_memory=False.\n",
      "  for chunk in tqdm(pd.read_csv('npidata_pfile_20050523-20230212.csv', usecols = npi_columns, chunksize = 10000)): #Reading data in by chuncks\n",
      "C:\\Users\\tjsim\\AppData\\Local\\Temp\\ipykernel_19284\\2338586223.py:3: DtypeWarning: Columns (32,71,74,75,78,79,82,83,86,87,90,91,94,95,98,99,102) have mixed types.Specify dtype option on import or set low_memory=False.\n",
      "  for chunk in tqdm(pd.read_csv('npidata_pfile_20050523-20230212.csv', usecols = npi_columns, chunksize = 10000)): #Reading data in by chuncks\n",
      "C:\\Users\\tjsim\\AppData\\Local\\Temp\\ipykernel_19284\\2338586223.py:3: DtypeWarning: Columns (32,71,74,75,78,79,82,83,86,87,90) have mixed types.Specify dtype option on import or set low_memory=False.\n",
      "  for chunk in tqdm(pd.read_csv('npidata_pfile_20050523-20230212.csv', usecols = npi_columns, chunksize = 10000)): #Reading data in by chuncks\n",
      "C:\\Users\\tjsim\\AppData\\Local\\Temp\\ipykernel_19284\\2338586223.py:3: DtypeWarning: Columns (32,71,74,75,78,79,82,83,86,87,90,91,94,95,98) have mixed types.Specify dtype option on import or set low_memory=False.\n",
      "  for chunk in tqdm(pd.read_csv('npidata_pfile_20050523-20230212.csv', usecols = npi_columns, chunksize = 10000)): #Reading data in by chuncks\n",
      "C:\\Users\\tjsim\\AppData\\Local\\Temp\\ipykernel_19284\\2338586223.py:3: DtypeWarning: Columns (32,67,70,71,74,75,78,79,82,83,86,87,90,91,94,95,98,99,102) have mixed types.Specify dtype option on import or set low_memory=False.\n",
      "  for chunk in tqdm(pd.read_csv('npidata_pfile_20050523-20230212.csv', usecols = npi_columns, chunksize = 10000)): #Reading data in by chuncks\n",
      "C:\\Users\\tjsim\\AppData\\Local\\Temp\\ipykernel_19284\\2338586223.py:3: DtypeWarning: Columns (63,66,67,70,71,74,75,78,79,82,83,86,87,90) have mixed types.Specify dtype option on import or set low_memory=False.\n",
      "  for chunk in tqdm(pd.read_csv('npidata_pfile_20050523-20230212.csv', usecols = npi_columns, chunksize = 10000)): #Reading data in by chuncks\n",
      "C:\\Users\\tjsim\\AppData\\Local\\Temp\\ipykernel_19284\\2338586223.py:3: DtypeWarning: Columns (67,70,71,74) have mixed types.Specify dtype option on import or set low_memory=False.\n",
      "  for chunk in tqdm(pd.read_csv('npidata_pfile_20050523-20230212.csv', usecols = npi_columns, chunksize = 10000)): #Reading data in by chuncks\n",
      "C:\\Users\\tjsim\\AppData\\Local\\Temp\\ipykernel_19284\\2338586223.py:3: DtypeWarning: Columns (71,74,75,78,79,82,83,86) have mixed types.Specify dtype option on import or set low_memory=False.\n",
      "  for chunk in tqdm(pd.read_csv('npidata_pfile_20050523-20230212.csv', usecols = npi_columns, chunksize = 10000)): #Reading data in by chuncks\n",
      "C:\\Users\\tjsim\\AppData\\Local\\Temp\\ipykernel_19284\\2338586223.py:3: DtypeWarning: Columns (32,63,66,67,70,71,74,75,78,79,82,83,86,87,90,91,94) have mixed types.Specify dtype option on import or set low_memory=False.\n",
      "  for chunk in tqdm(pd.read_csv('npidata_pfile_20050523-20230212.csv', usecols = npi_columns, chunksize = 10000)): #Reading data in by chuncks\n",
      "C:\\Users\\tjsim\\AppData\\Local\\Temp\\ipykernel_19284\\2338586223.py:3: DtypeWarning: Columns (63,66,67,70,71,74,75,78,79,82,83,86,87,90,91,94,95,98,99,102) have mixed types.Specify dtype option on import or set low_memory=False.\n",
      "  for chunk in tqdm(pd.read_csv('npidata_pfile_20050523-20230212.csv', usecols = npi_columns, chunksize = 10000)): #Reading data in by chuncks\n",
      "C:\\Users\\tjsim\\AppData\\Local\\Temp\\ipykernel_19284\\2338586223.py:3: DtypeWarning: Columns (67,70,71,74,75,78,79,82,83,86,87,90,91,94,95,98,99,102,103,106) have mixed types.Specify dtype option on import or set low_memory=False.\n",
      "  for chunk in tqdm(pd.read_csv('npidata_pfile_20050523-20230212.csv', usecols = npi_columns, chunksize = 10000)): #Reading data in by chuncks\n",
      "C:\\Users\\tjsim\\AppData\\Local\\Temp\\ipykernel_19284\\2338586223.py:3: DtypeWarning: Columns (32,71,74,75,78,79,82) have mixed types.Specify dtype option on import or set low_memory=False.\n",
      "  for chunk in tqdm(pd.read_csv('npidata_pfile_20050523-20230212.csv', usecols = npi_columns, chunksize = 10000)): #Reading data in by chuncks\n",
      "C:\\Users\\tjsim\\AppData\\Local\\Temp\\ipykernel_19284\\2338586223.py:3: DtypeWarning: Columns (32,63,66,67,70,71,74) have mixed types.Specify dtype option on import or set low_memory=False.\n",
      "  for chunk in tqdm(pd.read_csv('npidata_pfile_20050523-20230212.csv', usecols = npi_columns, chunksize = 10000)): #Reading data in by chuncks\n",
      "C:\\Users\\tjsim\\AppData\\Local\\Temp\\ipykernel_19284\\2338586223.py:3: DtypeWarning: Columns (67,70,71,74,75,78,79,82,83,86,87,90,91,94) have mixed types.Specify dtype option on import or set low_memory=False.\n",
      "  for chunk in tqdm(pd.read_csv('npidata_pfile_20050523-20230212.csv', usecols = npi_columns, chunksize = 10000)): #Reading data in by chuncks\n",
      "C:\\Users\\tjsim\\AppData\\Local\\Temp\\ipykernel_19284\\2338586223.py:3: DtypeWarning: Columns (63,66,67,70,71,74,75,78,79,82) have mixed types.Specify dtype option on import or set low_memory=False.\n",
      "  for chunk in tqdm(pd.read_csv('npidata_pfile_20050523-20230212.csv', usecols = npi_columns, chunksize = 10000)): #Reading data in by chuncks\n"
     ]
    },
    {
     "name": "stderr",
     "output_type": "stream",
     "text": [
      "C:\\Users\\tjsim\\AppData\\Local\\Temp\\ipykernel_19284\\2338586223.py:3: DtypeWarning: Columns (32,75,78,79,82,83,86) have mixed types.Specify dtype option on import or set low_memory=False.\n",
      "  for chunk in tqdm(pd.read_csv('npidata_pfile_20050523-20230212.csv', usecols = npi_columns, chunksize = 10000)): #Reading data in by chuncks\n",
      "C:\\Users\\tjsim\\AppData\\Local\\Temp\\ipykernel_19284\\2338586223.py:3: DtypeWarning: Columns (75,78,79,82,83,86,87,90,91,94,95,98) have mixed types.Specify dtype option on import or set low_memory=False.\n",
      "  for chunk in tqdm(pd.read_csv('npidata_pfile_20050523-20230212.csv', usecols = npi_columns, chunksize = 10000)): #Reading data in by chuncks\n",
      "C:\\Users\\tjsim\\AppData\\Local\\Temp\\ipykernel_19284\\2338586223.py:3: DtypeWarning: Columns (32,75,78,79,82,83,86,87,90,91,94,95,98) have mixed types.Specify dtype option on import or set low_memory=False.\n",
      "  for chunk in tqdm(pd.read_csv('npidata_pfile_20050523-20230212.csv', usecols = npi_columns, chunksize = 10000)): #Reading data in by chuncks\n",
      "C:\\Users\\tjsim\\AppData\\Local\\Temp\\ipykernel_19284\\2338586223.py:3: DtypeWarning: Columns (32,87,90,91,94,95,98,99,102) have mixed types.Specify dtype option on import or set low_memory=False.\n",
      "  for chunk in tqdm(pd.read_csv('npidata_pfile_20050523-20230212.csv', usecols = npi_columns, chunksize = 10000)): #Reading data in by chuncks\n",
      "C:\\Users\\tjsim\\AppData\\Local\\Temp\\ipykernel_19284\\2338586223.py:3: DtypeWarning: Columns (32,75,78,79,82,83,86,87,90,91,94) have mixed types.Specify dtype option on import or set low_memory=False.\n",
      "  for chunk in tqdm(pd.read_csv('npidata_pfile_20050523-20230212.csv', usecols = npi_columns, chunksize = 10000)): #Reading data in by chuncks\n",
      "C:\\Users\\tjsim\\AppData\\Local\\Temp\\ipykernel_19284\\2338586223.py:3: DtypeWarning: Columns (32,75,78,79,82,83,86,87,90,91,94,95,98,99,102,103,106) have mixed types.Specify dtype option on import or set low_memory=False.\n",
      "  for chunk in tqdm(pd.read_csv('npidata_pfile_20050523-20230212.csv', usecols = npi_columns, chunksize = 10000)): #Reading data in by chuncks\n",
      "C:\\Users\\tjsim\\AppData\\Local\\Temp\\ipykernel_19284\\2338586223.py:3: DtypeWarning: Columns (67,70,71,74,75,78,79,82,83,86) have mixed types.Specify dtype option on import or set low_memory=False.\n",
      "  for chunk in tqdm(pd.read_csv('npidata_pfile_20050523-20230212.csv', usecols = npi_columns, chunksize = 10000)): #Reading data in by chuncks\n",
      "C:\\Users\\tjsim\\AppData\\Local\\Temp\\ipykernel_19284\\2338586223.py:3: DtypeWarning: Columns (32,71,74,75,78) have mixed types.Specify dtype option on import or set low_memory=False.\n",
      "  for chunk in tqdm(pd.read_csv('npidata_pfile_20050523-20230212.csv', usecols = npi_columns, chunksize = 10000)): #Reading data in by chuncks\n",
      "C:\\Users\\tjsim\\AppData\\Local\\Temp\\ipykernel_19284\\2338586223.py:3: DtypeWarning: Columns (32,87,90,91,94,95,98,99,102,103,106) have mixed types.Specify dtype option on import or set low_memory=False.\n",
      "  for chunk in tqdm(pd.read_csv('npidata_pfile_20050523-20230212.csv', usecols = npi_columns, chunksize = 10000)): #Reading data in by chuncks\n",
      "C:\\Users\\tjsim\\AppData\\Local\\Temp\\ipykernel_19284\\2338586223.py:3: DtypeWarning: Columns (71,74,75,78,79,82,83,86,87,90,91,94,95,98,99,102,103,106) have mixed types.Specify dtype option on import or set low_memory=False.\n",
      "  for chunk in tqdm(pd.read_csv('npidata_pfile_20050523-20230212.csv', usecols = npi_columns, chunksize = 10000)): #Reading data in by chuncks\n",
      "C:\\Users\\tjsim\\AppData\\Local\\Temp\\ipykernel_19284\\2338586223.py:3: DtypeWarning: Columns (4,79,82,83,86,87,90,91,94,95,98,99,102,103,106) have mixed types.Specify dtype option on import or set low_memory=False.\n",
      "  for chunk in tqdm(pd.read_csv('npidata_pfile_20050523-20230212.csv', usecols = npi_columns, chunksize = 10000)): #Reading data in by chuncks\n",
      "C:\\Users\\tjsim\\AppData\\Local\\Temp\\ipykernel_19284\\2338586223.py:3: DtypeWarning: Columns (4,67,70,71,74,75,78,79,82) have mixed types.Specify dtype option on import or set low_memory=False.\n",
      "  for chunk in tqdm(pd.read_csv('npidata_pfile_20050523-20230212.csv', usecols = npi_columns, chunksize = 10000)): #Reading data in by chuncks\n",
      "C:\\Users\\tjsim\\AppData\\Local\\Temp\\ipykernel_19284\\2338586223.py:3: DtypeWarning: Columns (4,79,82,83,86,87,90,91,94,95,98) have mixed types.Specify dtype option on import or set low_memory=False.\n",
      "  for chunk in tqdm(pd.read_csv('npidata_pfile_20050523-20230212.csv', usecols = npi_columns, chunksize = 10000)): #Reading data in by chuncks\n",
      "C:\\Users\\tjsim\\AppData\\Local\\Temp\\ipykernel_19284\\2338586223.py:3: DtypeWarning: Columns (75,78,79,82,83,86,87,90,91,94,95,98,99,102,103,106) have mixed types.Specify dtype option on import or set low_memory=False.\n",
      "  for chunk in tqdm(pd.read_csv('npidata_pfile_20050523-20230212.csv', usecols = npi_columns, chunksize = 10000)): #Reading data in by chuncks\n",
      "C:\\Users\\tjsim\\AppData\\Local\\Temp\\ipykernel_19284\\2338586223.py:3: DtypeWarning: Columns (83,86,87,90,91,94,95,98,99,102,103,106) have mixed types.Specify dtype option on import or set low_memory=False.\n",
      "  for chunk in tqdm(pd.read_csv('npidata_pfile_20050523-20230212.csv', usecols = npi_columns, chunksize = 10000)): #Reading data in by chuncks\n",
      "C:\\Users\\tjsim\\AppData\\Local\\Temp\\ipykernel_19284\\2338586223.py:3: DtypeWarning: Columns (32,79,82,83,86,87,90) have mixed types.Specify dtype option on import or set low_memory=False.\n",
      "  for chunk in tqdm(pd.read_csv('npidata_pfile_20050523-20230212.csv', usecols = npi_columns, chunksize = 10000)): #Reading data in by chuncks\n",
      "C:\\Users\\tjsim\\AppData\\Local\\Temp\\ipykernel_19284\\2338586223.py:3: DtypeWarning: Columns (32,79,82,83,86,87,90,91,94) have mixed types.Specify dtype option on import or set low_memory=False.\n",
      "  for chunk in tqdm(pd.read_csv('npidata_pfile_20050523-20230212.csv', usecols = npi_columns, chunksize = 10000)): #Reading data in by chuncks\n",
      "C:\\Users\\tjsim\\AppData\\Local\\Temp\\ipykernel_19284\\2338586223.py:3: DtypeWarning: Columns (32,83,86,87,90,91,94,95,98,99,102,103,106) have mixed types.Specify dtype option on import or set low_memory=False.\n",
      "  for chunk in tqdm(pd.read_csv('npidata_pfile_20050523-20230212.csv', usecols = npi_columns, chunksize = 10000)): #Reading data in by chuncks\n",
      "C:\\Users\\tjsim\\AppData\\Local\\Temp\\ipykernel_19284\\2338586223.py:3: DtypeWarning: Columns (79,82,83,86,87,90,91,94,95,98,99,102,103,106) have mixed types.Specify dtype option on import or set low_memory=False.\n",
      "  for chunk in tqdm(pd.read_csv('npidata_pfile_20050523-20230212.csv', usecols = npi_columns, chunksize = 10000)): #Reading data in by chuncks\n",
      "C:\\Users\\tjsim\\AppData\\Local\\Temp\\ipykernel_19284\\2338586223.py:3: DtypeWarning: Columns (32,91,94,95,98,99,102,103,106) have mixed types.Specify dtype option on import or set low_memory=False.\n",
      "  for chunk in tqdm(pd.read_csv('npidata_pfile_20050523-20230212.csv', usecols = npi_columns, chunksize = 10000)): #Reading data in by chuncks\n",
      "C:\\Users\\tjsim\\AppData\\Local\\Temp\\ipykernel_19284\\2338586223.py:3: DtypeWarning: Columns (5,6,7,8,9,10,32,67,70,71,74,75,78,79,82,83,86,87,90,91,94,95,98,99,102,103,106) have mixed types.Specify dtype option on import or set low_memory=False.\n",
      "  for chunk in tqdm(pd.read_csv('npidata_pfile_20050523-20230212.csv', usecols = npi_columns, chunksize = 10000)): #Reading data in by chuncks\n",
      "C:\\Users\\tjsim\\AppData\\Local\\Temp\\ipykernel_19284\\2338586223.py:3: DtypeWarning: Columns (32,91,94,95,98,99,102) have mixed types.Specify dtype option on import or set low_memory=False.\n",
      "  for chunk in tqdm(pd.read_csv('npidata_pfile_20050523-20230212.csv', usecols = npi_columns, chunksize = 10000)): #Reading data in by chuncks\n",
      "C:\\Users\\tjsim\\AppData\\Local\\Temp\\ipykernel_19284\\2338586223.py:3: DtypeWarning: Columns (32,75,78,79,82,83,86,87,90,91,94,95,98,99,102) have mixed types.Specify dtype option on import or set low_memory=False.\n",
      "  for chunk in tqdm(pd.read_csv('npidata_pfile_20050523-20230212.csv', usecols = npi_columns, chunksize = 10000)): #Reading data in by chuncks\n",
      "C:\\Users\\tjsim\\AppData\\Local\\Temp\\ipykernel_19284\\2338586223.py:3: DtypeWarning: Columns (32,95,98,99,102,103,106) have mixed types.Specify dtype option on import or set low_memory=False.\n",
      "  for chunk in tqdm(pd.read_csv('npidata_pfile_20050523-20230212.csv', usecols = npi_columns, chunksize = 10000)): #Reading data in by chuncks\n"
     ]
    },
    {
     "name": "stderr",
     "output_type": "stream",
     "text": [
      "C:\\Users\\tjsim\\AppData\\Local\\Temp\\ipykernel_19284\\2338586223.py:3: DtypeWarning: Columns (32,103,106) have mixed types.Specify dtype option on import or set low_memory=False.\n",
      "  for chunk in tqdm(pd.read_csv('npidata_pfile_20050523-20230212.csv', usecols = npi_columns, chunksize = 10000)): #Reading data in by chuncks\n",
      "C:\\Users\\tjsim\\AppData\\Local\\Temp\\ipykernel_19284\\2338586223.py:3: DtypeWarning: Columns (32,87,90,91,94) have mixed types.Specify dtype option on import or set low_memory=False.\n",
      "  for chunk in tqdm(pd.read_csv('npidata_pfile_20050523-20230212.csv', usecols = npi_columns, chunksize = 10000)): #Reading data in by chuncks\n",
      "C:\\Users\\tjsim\\AppData\\Local\\Temp\\ipykernel_19284\\2338586223.py:3: DtypeWarning: Columns (32,99,102,103,106) have mixed types.Specify dtype option on import or set low_memory=False.\n",
      "  for chunk in tqdm(pd.read_csv('npidata_pfile_20050523-20230212.csv', usecols = npi_columns, chunksize = 10000)): #Reading data in by chuncks\n",
      "C:\\Users\\tjsim\\AppData\\Local\\Temp\\ipykernel_19284\\2338586223.py:3: DtypeWarning: Columns (79,82,83,86,87,90,91,94,95,98) have mixed types.Specify dtype option on import or set low_memory=False.\n",
      "  for chunk in tqdm(pd.read_csv('npidata_pfile_20050523-20230212.csv', usecols = npi_columns, chunksize = 10000)): #Reading data in by chuncks\n",
      "C:\\Users\\tjsim\\AppData\\Local\\Temp\\ipykernel_19284\\2338586223.py:3: DtypeWarning: Columns (32,67,70,71,74,75,78,79,82,83,86,87,90,91,94,95,98,99,102,103,106) have mixed types.Specify dtype option on import or set low_memory=False.\n",
      "  for chunk in tqdm(pd.read_csv('npidata_pfile_20050523-20230212.csv', usecols = npi_columns, chunksize = 10000)): #Reading data in by chuncks\n",
      "C:\\Users\\tjsim\\AppData\\Local\\Temp\\ipykernel_19284\\2338586223.py:3: DtypeWarning: Columns (95,98,99,102,103,106) have mixed types.Specify dtype option on import or set low_memory=False.\n",
      "  for chunk in tqdm(pd.read_csv('npidata_pfile_20050523-20230212.csv', usecols = npi_columns, chunksize = 10000)): #Reading data in by chuncks\n",
      "C:\\Users\\tjsim\\AppData\\Local\\Temp\\ipykernel_19284\\2338586223.py:3: DtypeWarning: Columns (87,90,91,94,95,98,99,102,103,106) have mixed types.Specify dtype option on import or set low_memory=False.\n",
      "  for chunk in tqdm(pd.read_csv('npidata_pfile_20050523-20230212.csv', usecols = npi_columns, chunksize = 10000)): #Reading data in by chuncks\n",
      "C:\\Users\\tjsim\\AppData\\Local\\Temp\\ipykernel_19284\\2338586223.py:3: DtypeWarning: Columns (32,67,70,71,74,75,78,79,82,83,86,87,90,91,94,95,98) have mixed types.Specify dtype option on import or set low_memory=False.\n",
      "  for chunk in tqdm(pd.read_csv('npidata_pfile_20050523-20230212.csv', usecols = npi_columns, chunksize = 10000)): #Reading data in by chuncks\n",
      "C:\\Users\\tjsim\\AppData\\Local\\Temp\\ipykernel_19284\\2338586223.py:3: DtypeWarning: Columns (99,102,103,106) have mixed types.Specify dtype option on import or set low_memory=False.\n",
      "  for chunk in tqdm(pd.read_csv('npidata_pfile_20050523-20230212.csv', usecols = npi_columns, chunksize = 10000)): #Reading data in by chuncks\n",
      "C:\\Users\\tjsim\\AppData\\Local\\Temp\\ipykernel_19284\\2338586223.py:3: DtypeWarning: Columns (32) have mixed types.Specify dtype option on import or set low_memory=False.\n",
      "  for chunk in tqdm(pd.read_csv('npidata_pfile_20050523-20230212.csv', usecols = npi_columns, chunksize = 10000)): #Reading data in by chuncks\n",
      "C:\\Users\\tjsim\\AppData\\Local\\Temp\\ipykernel_19284\\2338586223.py:3: DtypeWarning: Columns (91,94,95,98,99,102,103,106) have mixed types.Specify dtype option on import or set low_memory=False.\n",
      "  for chunk in tqdm(pd.read_csv('npidata_pfile_20050523-20230212.csv', usecols = npi_columns, chunksize = 10000)): #Reading data in by chuncks\n",
      "C:\\Users\\tjsim\\AppData\\Local\\Temp\\ipykernel_19284\\2338586223.py:3: DtypeWarning: Columns (83,86,87,90,91,94,95,98,99,102) have mixed types.Specify dtype option on import or set low_memory=False.\n",
      "  for chunk in tqdm(pd.read_csv('npidata_pfile_20050523-20230212.csv', usecols = npi_columns, chunksize = 10000)): #Reading data in by chuncks\n",
      "C:\\Users\\tjsim\\AppData\\Local\\Temp\\ipykernel_19284\\2338586223.py:3: DtypeWarning: Columns (32,83,86,87,90,91,94,95,98,99,102) have mixed types.Specify dtype option on import or set low_memory=False.\n",
      "  for chunk in tqdm(pd.read_csv('npidata_pfile_20050523-20230212.csv', usecols = npi_columns, chunksize = 10000)): #Reading data in by chuncks\n",
      "C:\\Users\\tjsim\\AppData\\Local\\Temp\\ipykernel_19284\\2338586223.py:3: DtypeWarning: Columns (103,106) have mixed types.Specify dtype option on import or set low_memory=False.\n",
      "  for chunk in tqdm(pd.read_csv('npidata_pfile_20050523-20230212.csv', usecols = npi_columns, chunksize = 10000)): #Reading data in by chuncks\n",
      "C:\\Users\\tjsim\\AppData\\Local\\Temp\\ipykernel_19284\\2338586223.py:3: DtypeWarning: Columns (32,83,86,87,90) have mixed types.Specify dtype option on import or set low_memory=False.\n",
      "  for chunk in tqdm(pd.read_csv('npidata_pfile_20050523-20230212.csv', usecols = npi_columns, chunksize = 10000)): #Reading data in by chuncks\n",
      "C:\\Users\\tjsim\\AppData\\Local\\Temp\\ipykernel_19284\\2338586223.py:3: DtypeWarning: Columns (87,90,91,94,95,98,99,102) have mixed types.Specify dtype option on import or set low_memory=False.\n",
      "  for chunk in tqdm(pd.read_csv('npidata_pfile_20050523-20230212.csv', usecols = npi_columns, chunksize = 10000)): #Reading data in by chuncks\n",
      "C:\\Users\\tjsim\\AppData\\Local\\Temp\\ipykernel_19284\\2338586223.py:3: DtypeWarning: Columns (79,82,83,86,87,90,91,94) have mixed types.Specify dtype option on import or set low_memory=False.\n",
      "  for chunk in tqdm(pd.read_csv('npidata_pfile_20050523-20230212.csv', usecols = npi_columns, chunksize = 10000)): #Reading data in by chuncks\n",
      "C:\\Users\\tjsim\\AppData\\Local\\Temp\\ipykernel_19284\\2338586223.py:3: DtypeWarning: Columns (75,78,79,82,83,86,87,90,91,94,95,98,99,102) have mixed types.Specify dtype option on import or set low_memory=False.\n",
      "  for chunk in tqdm(pd.read_csv('npidata_pfile_20050523-20230212.csv', usecols = npi_columns, chunksize = 10000)): #Reading data in by chuncks\n",
      "C:\\Users\\tjsim\\AppData\\Local\\Temp\\ipykernel_19284\\2338586223.py:3: DtypeWarning: Columns (79,82,83,86,87,90,91,94,95,98,99,102) have mixed types.Specify dtype option on import or set low_memory=False.\n",
      "  for chunk in tqdm(pd.read_csv('npidata_pfile_20050523-20230212.csv', usecols = npi_columns, chunksize = 10000)): #Reading data in by chuncks\n",
      "C:\\Users\\tjsim\\AppData\\Local\\Temp\\ipykernel_19284\\2338586223.py:3: DtypeWarning: Columns (32,95,98) have mixed types.Specify dtype option on import or set low_memory=False.\n",
      "  for chunk in tqdm(pd.read_csv('npidata_pfile_20050523-20230212.csv', usecols = npi_columns, chunksize = 10000)): #Reading data in by chuncks\n",
      "C:\\Users\\tjsim\\AppData\\Local\\Temp\\ipykernel_19284\\2338586223.py:3: DtypeWarning: Columns (32,79,82,83,86,87,90,91,94,95,98) have mixed types.Specify dtype option on import or set low_memory=False.\n",
      "  for chunk in tqdm(pd.read_csv('npidata_pfile_20050523-20230212.csv', usecols = npi_columns, chunksize = 10000)): #Reading data in by chuncks\n",
      "C:\\Users\\tjsim\\AppData\\Local\\Temp\\ipykernel_19284\\2338586223.py:3: DtypeWarning: Columns (5,6,7,8,9,10,32,83,86,87,90,91,94,95,98,99,102,103,106) have mixed types.Specify dtype option on import or set low_memory=False.\n",
      "  for chunk in tqdm(pd.read_csv('npidata_pfile_20050523-20230212.csv', usecols = npi_columns, chunksize = 10000)): #Reading data in by chuncks\n",
      "C:\\Users\\tjsim\\AppData\\Local\\Temp\\ipykernel_19284\\2338586223.py:3: DtypeWarning: Columns (5,6,7,8,10,32,95,98,99,102,103,106) have mixed types.Specify dtype option on import or set low_memory=False.\n",
      "  for chunk in tqdm(pd.read_csv('npidata_pfile_20050523-20230212.csv', usecols = npi_columns, chunksize = 10000)): #Reading data in by chuncks\n",
      "C:\\Users\\tjsim\\AppData\\Local\\Temp\\ipykernel_19284\\2338586223.py:3: DtypeWarning: Columns (5,6,7,8,10) have mixed types.Specify dtype option on import or set low_memory=False.\n",
      "  for chunk in tqdm(pd.read_csv('npidata_pfile_20050523-20230212.csv', usecols = npi_columns, chunksize = 10000)): #Reading data in by chuncks\n",
      "C:\\Users\\tjsim\\AppData\\Local\\Temp\\ipykernel_19284\\2338586223.py:3: DtypeWarning: Columns (5,6,10,32,87,90,91,94,95,98,99,102,103,106) have mixed types.Specify dtype option on import or set low_memory=False.\n",
      "  for chunk in tqdm(pd.read_csv('npidata_pfile_20050523-20230212.csv', usecols = npi_columns, chunksize = 10000)): #Reading data in by chuncks\n"
     ]
    },
    {
     "name": "stderr",
     "output_type": "stream",
     "text": [
      "C:\\Users\\tjsim\\AppData\\Local\\Temp\\ipykernel_19284\\2338586223.py:3: DtypeWarning: Columns (5,6,7,8,10,32,87,90,91,94,95,98,99,102) have mixed types.Specify dtype option on import or set low_memory=False.\n",
      "  for chunk in tqdm(pd.read_csv('npidata_pfile_20050523-20230212.csv', usecols = npi_columns, chunksize = 10000)): #Reading data in by chuncks\n",
      "C:\\Users\\tjsim\\AppData\\Local\\Temp\\ipykernel_19284\\2338586223.py:3: DtypeWarning: Columns (5,6,8,10) have mixed types.Specify dtype option on import or set low_memory=False.\n",
      "  for chunk in tqdm(pd.read_csv('npidata_pfile_20050523-20230212.csv', usecols = npi_columns, chunksize = 10000)): #Reading data in by chuncks\n",
      "C:\\Users\\tjsim\\AppData\\Local\\Temp\\ipykernel_19284\\2338586223.py:3: DtypeWarning: Columns (5,6,8,10,91,94,95,98,99,102) have mixed types.Specify dtype option on import or set low_memory=False.\n",
      "  for chunk in tqdm(pd.read_csv('npidata_pfile_20050523-20230212.csv', usecols = npi_columns, chunksize = 10000)): #Reading data in by chuncks\n",
      "C:\\Users\\tjsim\\AppData\\Local\\Temp\\ipykernel_19284\\2338586223.py:3: DtypeWarning: Columns (5,6,7,10,99,102,103,106) have mixed types.Specify dtype option on import or set low_memory=False.\n",
      "  for chunk in tqdm(pd.read_csv('npidata_pfile_20050523-20230212.csv', usecols = npi_columns, chunksize = 10000)): #Reading data in by chuncks\n",
      "C:\\Users\\tjsim\\AppData\\Local\\Temp\\ipykernel_19284\\2338586223.py:3: DtypeWarning: Columns (5,6,7,8,10,87,90,91,94,95,98,99,102,103,106) have mixed types.Specify dtype option on import or set low_memory=False.\n",
      "  for chunk in tqdm(pd.read_csv('npidata_pfile_20050523-20230212.csv', usecols = npi_columns, chunksize = 10000)): #Reading data in by chuncks\n",
      "C:\\Users\\tjsim\\AppData\\Local\\Temp\\ipykernel_19284\\2338586223.py:3: DtypeWarning: Columns (5,6,7,8,10,79,82,83,86,87,90,91,94,95,98,99,102,103,106) have mixed types.Specify dtype option on import or set low_memory=False.\n",
      "  for chunk in tqdm(pd.read_csv('npidata_pfile_20050523-20230212.csv', usecols = npi_columns, chunksize = 10000)): #Reading data in by chuncks\n",
      "C:\\Users\\tjsim\\AppData\\Local\\Temp\\ipykernel_19284\\2338586223.py:3: DtypeWarning: Columns (5,6,7,8,9,10,95,98,99,102,103,106) have mixed types.Specify dtype option on import or set low_memory=False.\n",
      "  for chunk in tqdm(pd.read_csv('npidata_pfile_20050523-20230212.csv', usecols = npi_columns, chunksize = 10000)): #Reading data in by chuncks\n",
      "C:\\Users\\tjsim\\AppData\\Local\\Temp\\ipykernel_19284\\2338586223.py:3: DtypeWarning: Columns (32,75,78,79,82,83,86,87,90) have mixed types.Specify dtype option on import or set low_memory=False.\n",
      "  for chunk in tqdm(pd.read_csv('npidata_pfile_20050523-20230212.csv', usecols = npi_columns, chunksize = 10000)): #Reading data in by chuncks\n",
      "C:\\Users\\tjsim\\AppData\\Local\\Temp\\ipykernel_19284\\2338586223.py:3: DtypeWarning: Columns (4,83,86,87,90,91,94,95,98,99,102,103,106) have mixed types.Specify dtype option on import or set low_memory=False.\n",
      "  for chunk in tqdm(pd.read_csv('npidata_pfile_20050523-20230212.csv', usecols = npi_columns, chunksize = 10000)): #Reading data in by chuncks\n",
      "C:\\Users\\tjsim\\AppData\\Local\\Temp\\ipykernel_19284\\2338586223.py:3: DtypeWarning: Columns (32,95,98,99,102) have mixed types.Specify dtype option on import or set low_memory=False.\n",
      "  for chunk in tqdm(pd.read_csv('npidata_pfile_20050523-20230212.csv', usecols = npi_columns, chunksize = 10000)): #Reading data in by chuncks\n",
      "C:\\Users\\tjsim\\AppData\\Local\\Temp\\ipykernel_19284\\2338586223.py:3: DtypeWarning: Columns (95,98,99,102) have mixed types.Specify dtype option on import or set low_memory=False.\n",
      "  for chunk in tqdm(pd.read_csv('npidata_pfile_20050523-20230212.csv', usecols = npi_columns, chunksize = 10000)): #Reading data in by chuncks\n"
     ]
    }
   ],
   "source": [
    "db = sqlite3.connect('hop_teaming.sqlite')\n",
    "\n",
    "for chunk in tqdm(pd.read_csv('npidata_pfile_20050523-20230212.csv', usecols = npi_columns, chunksize = 10000)): #Reading data in by chuncks\n",
    "    list_df = [] \n",
    "\n",
    "    for i in range (1,16): #Searching for the taxonomy code and creating its own column\n",
    "        yes = npi[\n",
    "                    npi[f'Healthcare Provider Primary Taxonomy Switch_{i}'] == 'Y'\n",
    "                ][['NPI', f'Healthcare Provider Taxonomy Code_{i}']\n",
    "                 ].rename(columns={f'Healthcare Provider Taxonomy Code_{i}':'taxonomy_code'})\n",
    "\n",
    "        list_df.append(yes) \n",
    "    \n",
    "    final = pd.merge(left = npi, right = pd.concat(list_df), how = 'left', on = 'NPI')[npi_keeper_columns] #Merging the taxonomy codes back to npi data \n",
    "    \n",
    "    final.columns = [x.lower().replace(' ', '_') for x in final.columns] #cleaning column names\n",
    "    final.to_sql('npi_data', db, if_exists = 'append', index = False) #building database\n",
    "\n"
   ]
  },
  {
   "cell_type": "code",
   "execution_count": 18,
   "id": "b66f9df8",
   "metadata": {},
   "outputs": [],
   "source": [
    "db.close()"
   ]
  },
  {
   "cell_type": "code",
   "execution_count": 20,
   "id": "35e2eb74",
   "metadata": {},
   "outputs": [],
   "source": [
    "nucc = pd.read_csv('nucc_taxonomy_230.csv', encoding = 'iso-8859-1')\n",
    "\n",
    "nucc.columns = [x.lower().replace(' ', '_') for x in nucc.columns]\n",
    "\n",
    "db = sqlite3.connect('hop_teaming.sqlite')\n",
    "\n",
    "nucc.to_sql('taxonomy', db, if_exists = 'append', index = False)"
   ]
  },
  {
   "cell_type": "code",
   "execution_count": 21,
   "id": "de9b42f1",
   "metadata": {},
   "outputs": [],
   "source": [
    "db.close()"
   ]
  },
  {
   "cell_type": "code",
   "execution_count": 22,
   "id": "291b4621",
   "metadata": {},
   "outputs": [],
   "source": [
    "db = sqlite3.connect('hop_teaming.sqlite')\n",
    "\n",
    "pd.read_excel('ZIP_CBSA_122021.xlsx').to_sql('zipcode', db, if_exists = 'append', index = False)\n",
    "\n"
   ]
  },
  {
   "cell_type": "code",
   "execution_count": 23,
   "id": "6c54219d",
   "metadata": {},
   "outputs": [
    {
     "data": {
      "text/plain": [
       "<function Connection.close>"
      ]
     },
     "execution_count": 23,
     "metadata": {},
     "output_type": "execute_result"
    }
   ],
   "source": [
    "db.close"
   ]
  },
  {
   "cell_type": "code",
   "execution_count": null,
   "id": "86773681",
   "metadata": {},
   "outputs": [],
   "source": []
  }
 ],
 "metadata": {
  "kernelspec": {
   "display_name": "Python 3 (ipykernel)",
   "language": "python",
   "name": "python3"
  },
  "language_info": {
   "codemirror_mode": {
    "name": "ipython",
    "version": 3
   },
   "file_extension": ".py",
   "mimetype": "text/x-python",
   "name": "python",
   "nbconvert_exporter": "python",
   "pygments_lexer": "ipython3",
   "version": "3.9.12"
  }
 },
 "nbformat": 4,
 "nbformat_minor": 5
}
