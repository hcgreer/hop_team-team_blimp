{
 "cells": [
  {
   "cell_type": "code",
   "execution_count": 70,
   "id": "00c35bcf",
   "metadata": {},
   "outputs": [],
   "source": [
    "import pandas as pd\n",
    "import sqlite3\n",
    "from tqdm.notebook import tqdm\n",
    "import warnings\n",
    "warnings.filterwarnings(\"ignore\")"
   ]
  },
  {
   "cell_type": "code",
   "execution_count": 71,
   "id": "34ae482f",
   "metadata": {},
   "outputs": [
    {
     "data": {
      "application/vnd.jupyter.widget-view+json": {
       "model_id": "f4b28cf2faca4d97bb78f83be6367025",
       "version_major": 2,
       "version_minor": 0
      },
      "text/plain": [
       "0it [00:00, ?it/s]"
      ]
     },
     "metadata": {},
     "output_type": "display_data"
    }
   ],
   "source": [
    "db = sqlite3.connect('../data/referrals.sqlite')\n",
    "\n",
    "for chunk in tqdm(pd.read_csv('../data/doc_graph.csv', chunksize = 10000)): #Reading data set in by chunks\n",
    "    chunk.columns = [x.lower().replace(' ', '_') for x in chunk.columns] #making columns SQL format\n",
    "    chunk.to_sql('doc_graph', db, if_exists = 'append', index = False) #building the database"
   ]
  },
  {
   "cell_type": "code",
   "execution_count": 72,
   "id": "3693db55",
   "metadata": {},
   "outputs": [],
   "source": [
    "db.close()"
   ]
  },
  {
   "cell_type": "code",
   "execution_count": 73,
   "id": "b1debc0e",
   "metadata": {},
   "outputs": [],
   "source": [
    "#These are the only needed columns. Stll some cleaning to do.\n",
    "needed_columns = ['NPI', \n",
    "    'Entity Type Code',\n",
    "    'Provider Organization Name (Legal Business Name)',\n",
    "    'Provider Last Name (Legal Name)',\n",
    "    'Provider First Name',\n",
    "    'Provider Middle Name',\n",
    "    'Provider Name Prefix Text',\n",
    "    'Provider Name Suffix Text',\n",
    "    'Provider Credential Text',\n",
    "    'Provider First Line Business Practice Location Address',\n",
    "    'Provider Second Line Business Practice Location Address',\n",
    "    'Provider Business Practice Location Address City Name',\n",
    "    'Provider Business Practice Location Address State Name',\n",
    "    'Provider Business Practice Location Address Postal Code',\n",
    "    'Healthcare Provider Taxonomy Code_1',\n",
    "    'Healthcare Provider Taxonomy Code_2',\n",
    "    'Healthcare Provider Taxonomy Code_3',\n",
    "    'Healthcare Provider Taxonomy Code_4',\n",
    "    'Healthcare Provider Taxonomy Code_5',\n",
    "    'Healthcare Provider Taxonomy Code_6',\n",
    "    'Healthcare Provider Taxonomy Code_7',\n",
    "    'Healthcare Provider Taxonomy Code_8',\n",
    "    'Healthcare Provider Taxonomy Code_9',\n",
    "    'Healthcare Provider Taxonomy Code_10',\n",
    "    'Healthcare Provider Taxonomy Code_11',\n",
    "    'Healthcare Provider Taxonomy Code_12',\n",
    "    'Healthcare Provider Taxonomy Code_13',\n",
    "    'Healthcare Provider Taxonomy Code_14',\n",
    "    'Healthcare Provider Taxonomy Code_15',\n",
    "    'Healthcare Provider Primary Taxonomy Switch_1',\n",
    "    'Healthcare Provider Primary Taxonomy Switch_2',\n",
    "    'Healthcare Provider Primary Taxonomy Switch_3',\n",
    "    'Healthcare Provider Primary Taxonomy Switch_4',\n",
    "    'Healthcare Provider Primary Taxonomy Switch_5',\n",
    "    'Healthcare Provider Primary Taxonomy Switch_6',\n",
    "    'Healthcare Provider Primary Taxonomy Switch_7',\n",
    "    'Healthcare Provider Primary Taxonomy Switch_8',\n",
    "    'Healthcare Provider Primary Taxonomy Switch_9',\n",
    "    'Healthcare Provider Primary Taxonomy Switch_10',\n",
    "    'Healthcare Provider Primary Taxonomy Switch_11',\n",
    "    'Healthcare Provider Primary Taxonomy Switch_12',\n",
    "    'Healthcare Provider Primary Taxonomy Switch_13',\n",
    "    'Healthcare Provider Primary Taxonomy Switch_14',\n",
    "    'Healthcare Provider Primary Taxonomy Switch_15']"
   ]
  },
  {
   "cell_type": "code",
   "execution_count": 74,
   "id": "c68e7eca",
   "metadata": {},
   "outputs": [],
   "source": [
    "#These are the desried columns after cleaning is finished.\n",
    "wanted_columns = ['NPI', \n",
    "    'Entity Type Code',\n",
    "    'Provider Organization Name (Legal Business Name)',\n",
    "    'Provider Last Name (Legal Name)',\n",
    "    'Provider First Name',\n",
    "    'Provider Middle Name',\n",
    "    'Provider Name Prefix Text',\n",
    "    'Provider Name Suffix Text',\n",
    "    'Provider Credential Text',\n",
    "    'Provider First Line Business Practice Location Address',\n",
    "    'Provider Second Line Business Practice Location Address',\n",
    "    'Provider Business Practice Location Address City Name',\n",
    "    'Provider Business Practice Location Address State Name',\n",
    "    'Provider Business Practice Location Address Postal Code',\n",
    "    'taxonomy_code']"
   ]
  },
  {
   "cell_type": "code",
   "execution_count": 76,
   "id": "293638bd",
   "metadata": {},
   "outputs": [
    {
     "data": {
      "application/vnd.jupyter.widget-view+json": {
       "model_id": "5bc50b23976c44f39f435d73dbb7173c",
       "version_major": 2,
       "version_minor": 0
      },
      "text/plain": [
       "0it [00:00, ?it/s]"
      ]
     },
     "metadata": {},
     "output_type": "display_data"
    }
   ],
   "source": [
    "db = sqlite3.connect('../data/referrals.sqlite')\n",
    "\n",
    "for chunk in tqdm(pd.read_csv('../data/npi_data_pfile.csv', usecols = needed_columns, chunksize = 10000)): #Reading data in by chuncks\n",
    "    list_df = [] \n",
    "\n",
    "    for i in range (1,16): #Searching for the taxonomy code and creating its own column\n",
    "        yes = npi_data[\n",
    "                    npi_data[f'Healthcare Provider Primary Taxonomy Switch_{i}'] == 'Y'\n",
    "                ][['NPI', f'Healthcare Provider Taxonomy Code_{i}']\n",
    "                 ].rename(columns={f'Healthcare Provider Taxonomy Code_{i}':'taxonomy_code'})\n",
    "\n",
    "        list_df.append(yes) \n",
    "    \n",
    "    final = pd.merge(left = npi_data, right = pd.concat(list_df), how = 'left', on = 'NPI')[wanted_columns] #Merging the taxonomy codes back to npi data \n",
    "    \n",
    "    final.columns = [x.lower().replace(' ', '_') for x in final.columns] #cleaning column names\n",
    "    final.to_sql('npi_data', db, if_exists = 'append', index = False) #building database"
   ]
  },
  {
   "cell_type": "code",
   "execution_count": 86,
   "id": "e93f5fdf",
   "metadata": {},
   "outputs": [],
   "source": [
    "db.close()"
   ]
  },
  {
   "cell_type": "code",
   "execution_count": 96,
   "id": "0629adfe",
   "metadata": {},
   "outputs": [
    {
     "data": {
      "text/plain": [
       "873"
      ]
     },
     "execution_count": 96,
     "metadata": {},
     "output_type": "execute_result"
    }
   ],
   "source": [
    "taxonomy = pd.read_csv('../data/nucc_taxonomy.csv', encoding= 'unicode_escape')\n",
    "\n",
    "taxonomy.columns = [x.lower().replace(' ', '_') for x in taxonomy.columns]\n",
    "\n",
    "db = sqlite3.connect('../data/referrals.sqlite')\n",
    "\n",
    "taxonomy.to_sql('taxonomy', db, if_exists = 'append', index = False)"
   ]
  },
  {
   "cell_type": "code",
   "execution_count": 97,
   "id": "e721325d",
   "metadata": {},
   "outputs": [],
   "source": [
    "db.close()"
   ]
  },
  {
   "cell_type": "code",
   "execution_count": 103,
   "id": "efb34782",
   "metadata": {},
   "outputs": [
    {
     "data": {
      "text/plain": [
       "47484"
      ]
     },
     "execution_count": 103,
     "metadata": {},
     "output_type": "execute_result"
    }
   ],
   "source": [
    "db = sqlite3.connect('../data/referrals.sqlite')\n",
    "\n",
    "pd.read_excel('../data/zip_cbsa.xlsx').to_sql('zipcode', db, if_exists = 'append', index = False)"
   ]
  },
  {
   "cell_type": "code",
   "execution_count": 104,
   "id": "6b258007",
   "metadata": {},
   "outputs": [],
   "source": [
    "db.close()"
   ]
  }
 ],
 "metadata": {
  "kernelspec": {
   "display_name": "Python 3 (ipykernel)",
   "language": "python",
   "name": "python3"
  },
  "language_info": {
   "codemirror_mode": {
    "name": "ipython",
    "version": 3
   },
   "file_extension": ".py",
   "mimetype": "text/x-python",
   "name": "python",
   "nbconvert_exporter": "python",
   "pygments_lexer": "ipython3",
   "version": "3.9.12"
  }
 },
 "nbformat": 4,
 "nbformat_minor": 5
}
