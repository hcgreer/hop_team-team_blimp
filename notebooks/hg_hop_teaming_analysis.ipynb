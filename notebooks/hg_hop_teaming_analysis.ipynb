{
 "cells": [
  {
   "cell_type": "code",
   "execution_count": 1,
   "id": "86cba7f0",
   "metadata": {},
   "outputs": [],
   "source": [
    "import pandas as pd\n",
    "import sqlite3"
   ]
  },
  {
   "cell_type": "code",
   "execution_count": 2,
   "id": "ac4fb199",
   "metadata": {},
   "outputs": [],
   "source": [
    "query = '''\n",
    "WITH hospitals_tn AS(\n",
    "    SELECT \n",
    "        npi,\n",
    "        entity_type_code AS entity,\n",
    "        `provider_organization_name_(legal_business_name)` AS organization,\n",
    "        SUBSTR(provider_business_practice_location_address_postal_code, 1, 5) AS zipcode,\n",
    "        taxonomy_code\n",
    "    FROM npi_data\n",
    "    WHERE \n",
    "        entity_type_code = 2\n",
    ")\n",
    "SELECT\n",
    "    from_tax.grouping AS from_grouping,\n",
    "    from_tax.classification AS from_classification,\n",
    "    from_tax.specialization AS from_specialization,\n",
    "    to_npi,\n",
    "    htn.organization AS to_organization,\n",
    "    to_tax.grouping AS to_grouping,\n",
    "    to_tax.classification AS to_classification,\n",
    "    to_tax.specialization AS to_specialization,\n",
    "    SUM(patient_count) AS total_patient\n",
    "FROM doc_graph\n",
    "INNER JOIN hospitals_tn AS htn\n",
    "ON to_npi = htn.npi\n",
    "INNER JOIN npi_data AS fro\n",
    "ON from_npi = fro.npi\n",
    "LEFT JOIN taxonomy AS from_tax\n",
    "ON fro.taxonomy_code = from_tax.code\n",
    "LEFT JOIN taxonomy AS to_tax\n",
    "ON htn.taxonomy_code = to_tax.code\n",
    "WHERE htn.zipcode IN (\n",
    "    SELECT zip\n",
    "    FROM zipcode\n",
    "    WHERE cbsa = 34980\n",
    ")\n",
    "GROUP BY \n",
    "    from_tax.grouping,\n",
    "    from_tax.specialization,\n",
    "    from_tax.classification,\n",
    "    to_npi,\n",
    "    htn.organization,\n",
    "    to_tax.grouping,\n",
    "    to_tax.classification,\n",
    "    to_tax.specialization\n",
    "ORDER BY total_patient DESC\n",
    "'''"
   ]
  },
  {
   "cell_type": "code",
   "execution_count": 3,
   "id": "feee6b4b",
   "metadata": {
    "scrolled": true
   },
   "outputs": [],
   "source": [
    "with sqlite3.connect('../data/referrals.sqlite') as db: \n",
    "    referrals = pd.read_sql(query, db)"
   ]
  },
  {
   "cell_type": "code",
   "execution_count": 18,
   "id": "375c65cd",
   "metadata": {},
   "outputs": [],
   "source": [
    "referrals.to_csv('../data/referrals.csv', index = False)"
   ]
  },
  {
   "cell_type": "code",
   "execution_count": 5,
   "id": "ecb3db1f",
   "metadata": {},
   "outputs": [],
   "source": [
    "query = '''\n",
    "WITH hospitals_tn AS(\n",
    "    SELECT \n",
    "        npi,\n",
    "        entity_type_code AS entity,\n",
    "        `provider_organization_name_(legal_business_name)` AS organization,\n",
    "        SUBSTR(provider_business_practice_location_address_postal_code, 1, 5) AS zipcode,\n",
    "        taxonomy_code\n",
    "    FROM npi_data\n",
    "    WHERE \n",
    "        entity_type_code = 2\n",
    ")\n",
    "SELECT\n",
    "    from_npi,\n",
    "    fro.`provider_organization_name_(legal_business_name)` AS from_organization,\n",
    "    from_tax.grouping AS from_grouping,\n",
    "    from_tax.classification AS from_classification,\n",
    "    from_tax.specialization AS from_specialization,\n",
    "    to_npi,\n",
    "    htn.organization AS to_organization,\n",
    "    to_tax.grouping AS to_grouping,\n",
    "    to_tax.classification AS to_classification,\n",
    "    to_tax.specialization AS to_specialization,\n",
    "    patient_count\n",
    "FROM doc_graph\n",
    "INNER JOIN hospitals_tn AS htn\n",
    "ON to_npi = htn.npi\n",
    "INNER JOIN npi_data AS fro\n",
    "ON from_npi = fro.npi\n",
    "LEFT JOIN taxonomy AS from_tax\n",
    "ON fro.taxonomy_code = from_tax.code\n",
    "LEFT JOIN taxonomy AS to_tax\n",
    "ON htn.taxonomy_code = to_tax.code\n",
    "WHERE htn.zipcode IN (\n",
    "    SELECT zip\n",
    "    FROM zipcode\n",
    "    WHERE cbsa = 34980\n",
    ") AND\n",
    "    lower(to_tax.grouping) LIKE '%hospital%'\n",
    "'''"
   ]
  },
  {
   "cell_type": "code",
   "execution_count": 6,
   "id": "968ba8d2",
   "metadata": {},
   "outputs": [],
   "source": [
    "with sqlite3.connect('../data/referrals.sqlite') as db: \n",
    "    hos_referrals = pd.read_sql(query, db)"
   ]
  },
  {
   "cell_type": "code",
   "execution_count": 11,
   "id": "b6189dcf",
   "metadata": {},
   "outputs": [],
   "source": [
    "hos_referrals.to_csv('../data/hos_referrals.csv', index = False)"
   ]
  },
  {
   "cell_type": "code",
   "execution_count": 2,
   "id": "61bd7069",
   "metadata": {},
   "outputs": [],
   "source": [
    "query = '''\n",
    "WITH hospitals_tn AS(\n",
    "    SELECT \n",
    "        npi,\n",
    "        entity_type_code AS entity,\n",
    "        `provider_organization_name_(legal_business_name)` AS organization,\n",
    "        SUBSTR(provider_business_practice_location_address_postal_code, 1, 5) AS zipcode,\n",
    "        taxonomy_code\n",
    "    FROM npi_data\n",
    "    WHERE SUBSTR(provider_business_practice_location_address_postal_code, 1, 5) IN (\n",
    "        SELECT zip\n",
    "        FROM zipcode\n",
    "        WHERE cbsa = 34980\n",
    "    )\n",
    ")\n",
    "SELECT\n",
    "    from_npi,\n",
    "    to_npi,\n",
    "    patient_count\n",
    "FROM doc_graph\n",
    "INNER JOIN hospitals_tn AS htn\n",
    "ON to_npi = htn.npi\n",
    "'''"
   ]
  },
  {
   "cell_type": "code",
   "execution_count": 3,
   "id": "dcf35533",
   "metadata": {},
   "outputs": [],
   "source": [
    "with sqlite3.connect('../data/referrals.sqlite') as db: \n",
    "    communities = pd.read_sql(query, db)"
   ]
  },
  {
   "cell_type": "code",
   "execution_count": 5,
   "id": "bee4f142",
   "metadata": {},
   "outputs": [],
   "source": [
    "communities.to_csv('../data/communities_all.csv', index = False)"
   ]
  },
  {
   "cell_type": "code",
   "execution_count": 27,
   "id": "308d7318",
   "metadata": {},
   "outputs": [],
   "source": [
    "query = '''\n",
    "SELECT npi\n",
    "FROM npi_data\n",
    "WHERE entity_type_code = 2 AND\n",
    "    provider_business_practice_location_address_city_name = 'NASHVILLE' AND\n",
    "    provider_business_practice_location_address_state_name = 'TN'\n",
    "'''"
   ]
  },
  {
   "cell_type": "code",
   "execution_count": 28,
   "id": "1b9bbfdf",
   "metadata": {},
   "outputs": [],
   "source": [
    "with sqlite3.connect('../data/referrals.sqlite') as db: \n",
    "    nashville = pd.read_sql(query, db)"
   ]
  },
  {
   "cell_type": "code",
   "execution_count": 30,
   "id": "2162ec09",
   "metadata": {},
   "outputs": [],
   "source": [
    "nashville.to_csv('../data/nashville_npi.csv', index = False)"
   ]
  }
 ],
 "metadata": {
  "kernelspec": {
   "display_name": "Python 3 (ipykernel)",
   "language": "python",
   "name": "python3"
  },
  "language_info": {
   "codemirror_mode": {
    "name": "ipython",
    "version": 3
   },
   "file_extension": ".py",
   "mimetype": "text/x-python",
   "name": "python",
   "nbconvert_exporter": "python",
   "pygments_lexer": "ipython3",
   "version": "3.9.12"
  }
 },
 "nbformat": 4,
 "nbformat_minor": 5
}
